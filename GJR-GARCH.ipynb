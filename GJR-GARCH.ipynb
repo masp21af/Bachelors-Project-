{
 "cells": [
  {
   "cell_type": "code",
   "execution_count": 1,
   "id": "fc32d23f-0a44-4ae5-ae05-bd753401d9e1",
   "metadata": {},
   "outputs": [],
   "source": [
    "#Importing libraries and setting seed\n",
    "seed = 45871\n",
    "import pandas as pd\n",
    "import numpy as np\n",
    "import math\n",
    "import statistics\n",
    "import scipy.stats as stats\n",
    "import matplotlib.pyplot as plt\n",
    "import matplotlib.dates as mdates\n",
    "from pandas.plotting import register_matplotlib_converters\n",
    "from statsmodels.graphics.tsaplots import plot_acf, plot_pacf\n",
    "import statsmodels.api as sm\n",
    "from statsmodels.tsa.stattools import adfuller\n",
    "from statsmodels.stats.diagnostic import acorr_ljungbox\n",
    "from arch import arch_model"
   ]
  },
  {
   "cell_type": "markdown",
   "id": "48f6c1ff-8a3c-4bf1-9525-bd94bc0b9872",
   "metadata": {},
   "source": [
    "# Load data + compute new columns"
   ]
  },
  {
   "cell_type": "code",
   "execution_count": 2,
   "id": "d4672c3e-b8ba-4d3c-a3c5-d130a1125b69",
   "metadata": {},
   "outputs": [
    {
     "name": "stdout",
     "output_type": "stream",
     "text": [
      "        Date  Last Price  Log_Returns   std_dev\n",
      "0 2005-04-26       17.15    -1.734148  3.700323\n",
      "1 2005-04-27       16.35    -4.777028  2.151641\n",
      "2 2005-04-28       15.95    -2.476907  1.626431\n",
      "3 2005-04-29       16.40     2.782251  3.718786\n",
      "4 2005-05-03       16.10    -1.846206  3.272813\n",
      "           Date  Last Price  Log_Returns   std_dev\n",
      "4871 2024-03-25       63.74     5.465136  0.982766\n",
      "4872 2024-03-26       61.06    -4.295532  6.901835\n",
      "4873 2024-03-27       61.21     0.245359  3.210895\n",
      "4874 2024-03-28       60.58    -1.034577  0.905051\n",
      "4875 2024-04-01       60.58     0.000000  0.731556\n"
     ]
    }
   ],
   "source": [
    "#Loading the data file\n",
    "file_path = 'test data_ascending.xlsx'\n",
    "df = pd.read_excel(file_path)\n",
    "\n",
    "# Calculating log returns\n",
    "df['Log_Returns'] = (np.log(df['Last Price']) - np.log(df['Last Price'].shift(1)))*100\n",
    "\n",
    "# Calculate volatility on log returns \n",
    "window_size = 2 \n",
    "df['std_dev'] = df['Log_Returns'].rolling(window=window_size).std()\n",
    "\n",
    "df = df.dropna().reset_index(drop=True)\n",
    "\n",
    "# Display data frame\n",
    "print(df.head())\n",
    "print(df.tail())"
   ]
  },
  {
   "cell_type": "markdown",
   "id": "d276e2a0-110b-4dec-9003-05db388367ff",
   "metadata": {},
   "source": [
    "# Split data frame"
   ]
  },
  {
   "cell_type": "code",
   "execution_count": 3,
   "id": "70d543ce-7578-4083-b958-b255108846fe",
   "metadata": {},
   "outputs": [
    {
     "name": "stdout",
     "output_type": "stream",
     "text": [
      "          Date  Last Price  Log_Returns   std_dev\n",
      "753 2008-04-03       23.47     0.213265  2.620107\n",
      "754 2008-04-04       23.31    -0.684056  0.634502\n",
      "755 2008-04-07       23.82     2.164311  2.014099\n",
      "756 2008-04-08       23.51    -1.309970  2.456688\n",
      "757 2008-04-09       23.69     0.762716  1.465610\n",
      "           Date  Last Price  Log_Returns   std_dev\n",
      "4871 2024-03-25       63.74     5.465136  0.982766\n",
      "4872 2024-03-26       61.06    -4.295532  6.901835\n",
      "4873 2024-03-27       61.21     0.245359  3.210895\n",
      "4874 2024-03-28       60.58    -1.034577  0.905051\n",
      "4875 2024-04-01       60.58     0.000000  0.731556\n"
     ]
    }
   ],
   "source": [
    "start_date = '2008-04-03'\n",
    "df = df[df['Date'] >= start_date]\n",
    "\n",
    "print(df.head())\n",
    "print(df.tail())"
   ]
  },
  {
   "cell_type": "code",
   "execution_count": 4,
   "id": "86cfe695-9644-4373-aaaa-100d0b270e4b",
   "metadata": {},
   "outputs": [],
   "source": [
    "# Split data frame into training data and test data\n",
    "test_size = int(len(df) * 0.2)\n",
    "df_train = df[:-test_size]\n",
    "df_test = df[-test_size:]\n",
    "\n",
    "# Exclude NaN values from the date frames \n",
    "df_train = df_train.dropna()\n",
    "df_test = df_test.dropna()"
   ]
  },
  {
   "cell_type": "markdown",
   "id": "5d1618ed-5c31-4d7d-b3ef-34d452e27df1",
   "metadata": {},
   "source": [
    "# Train model + predict observations"
   ]
  },
  {
   "cell_type": "code",
   "execution_count": 5,
   "id": "79b1a798-47b4-4b24-bc69-167ccb9bf4e5",
   "metadata": {},
   "outputs": [
    {
     "name": "stdout",
     "output_type": "stream",
     "text": [
      "Iteration:      1,   Func. Count:      7,   Neg. LLF: 21135.31313016037\n",
      "Iteration:      2,   Func. Count:     17,   Neg. LLF: 102294478.55230436\n",
      "Iteration:      3,   Func. Count:     26,   Neg. LLF: 8080.6040493930195\n",
      "Iteration:      4,   Func. Count:     33,   Neg. LLF: 8795.621425730407\n",
      "Iteration:      5,   Func. Count:     40,   Neg. LLF: 7963.90079506931\n",
      "Iteration:      6,   Func. Count:     47,   Neg. LLF: 7915.765761954278\n",
      "Iteration:      7,   Func. Count:     54,   Neg. LLF: 7914.315001354651\n",
      "Iteration:      8,   Func. Count:     61,   Neg. LLF: 7912.501148129813\n",
      "Iteration:      9,   Func. Count:     68,   Neg. LLF: 8011.149119692613\n",
      "Iteration:     10,   Func. Count:     76,   Neg. LLF: 7911.989964979663\n",
      "Iteration:     11,   Func. Count:     83,   Neg. LLF: 7911.988622756948\n",
      "Iteration:     12,   Func. Count:     89,   Neg. LLF: 7911.988620062119\n",
      "Iteration:     13,   Func. Count:     94,   Neg. LLF: 7911.988620061477\n",
      "Optimization terminated successfully    (Exit mode 0)\n",
      "            Current function value: 7911.988620062119\n",
      "            Iterations: 13\n",
      "            Function evaluations: 94\n",
      "            Gradient evaluations: 13\n"
     ]
    },
    {
     "data": {
      "text/html": [
       "<table class=\"simpletable\">\n",
       "<caption>Constant Mean - GJR-GARCH Model Results</caption>\n",
       "<tr>\n",
       "  <th>Dep. Variable:</th>     <td>Log_Returns</td>    <th>  R-squared:         </th>  <td>   0.000</td> \n",
       "</tr>\n",
       "<tr>\n",
       "  <th>Mean Model:</th>       <td>Constant Mean</td>   <th>  Adj. R-squared:    </th>  <td>   0.000</td> \n",
       "</tr>\n",
       "<tr>\n",
       "  <th>Vol Model:</th>          <td>GJR-GARCH</td>     <th>  Log-Likelihood:    </th> <td>  -7911.99</td>\n",
       "</tr>\n",
       "<tr>\n",
       "  <th>Distribution:</th>        <td>Normal</td>       <th>  AIC:               </th> <td>   15834.0</td>\n",
       "</tr>\n",
       "<tr>\n",
       "  <th>Method:</th>        <td>Maximum Likelihood</td> <th>  BIC:               </th> <td>   15864.5</td>\n",
       "</tr>\n",
       "<tr>\n",
       "  <th></th>                        <td></td>          <th>  No. Observations:  </th>    <td>3299</td>   \n",
       "</tr>\n",
       "<tr>\n",
       "  <th>Date:</th>           <td>Fri, May 10 2024</td>  <th>  Df Residuals:      </th>    <td>3298</td>   \n",
       "</tr>\n",
       "<tr>\n",
       "  <th>Time:</th>               <td>16:38:58</td>      <th>  Df Model:          </th>      <td>1</td>    \n",
       "</tr>\n",
       "</table>\n",
       "<table class=\"simpletable\">\n",
       "<caption>Mean Model</caption>\n",
       "<tr>\n",
       "   <td></td>     <th>coef</th>     <th>std err</th>      <th>t</th>       <th>P>|t|</th>     <th>95.0% Conf. Int.</th>  \n",
       "</tr>\n",
       "<tr>\n",
       "  <th>mu</th> <td>    0.0633</td> <td>3.929e-02</td> <td>    1.611</td> <td>    0.107</td> <td>[-1.369e-02,  0.140]</td>\n",
       "</tr>\n",
       "</table>\n",
       "<table class=\"simpletable\">\n",
       "<caption>Volatility Model</caption>\n",
       "<tr>\n",
       "      <td></td>        <th>coef</th>     <th>std err</th>      <th>t</th>       <th>P>|t|</th>      <th>95.0% Conf. Int.</th>   \n",
       "</tr>\n",
       "<tr>\n",
       "  <th>omega</th>    <td>    0.1226</td> <td>5.395e-02</td> <td>    2.272</td> <td>2.307e-02</td>   <td>[1.685e-02,  0.228]</td> \n",
       "</tr>\n",
       "<tr>\n",
       "  <th>alpha[1]</th> <td>    0.0952</td> <td>1.880e-02</td> <td>    5.061</td> <td>4.164e-07</td>   <td>[5.831e-02,  0.132]</td> \n",
       "</tr>\n",
       "<tr>\n",
       "  <th>gamma[1]</th> <td>    0.0430</td> <td>2.633e-02</td> <td>    1.632</td> <td>    0.103</td> <td>[-8.628e-03,9.460e-02]</td>\n",
       "</tr>\n",
       "<tr>\n",
       "  <th>beta[1]</th>  <td>    0.8784</td> <td>2.291e-02</td> <td>   38.347</td>   <td>0.000</td>      <td>[  0.833,  0.923]</td>  \n",
       "</tr>\n",
       "</table><br/><br/>Covariance estimator: robust"
      ],
      "text/latex": [
       "\\begin{center}\n",
       "\\begin{tabular}{lclc}\n",
       "\\toprule\n",
       "\\textbf{Dep. Variable:} &    Log\\_Returns    & \\textbf{  R-squared:         } &     0.000   \\\\\n",
       "\\textbf{Mean Model:}    &   Constant Mean    & \\textbf{  Adj. R-squared:    } &     0.000   \\\\\n",
       "\\textbf{Vol Model:}     &     GJR-GARCH      & \\textbf{  Log-Likelihood:    } &   -7911.99  \\\\\n",
       "\\textbf{Distribution:}  &       Normal       & \\textbf{  AIC:               } &    15834.0  \\\\\n",
       "\\textbf{Method:}        & Maximum Likelihood & \\textbf{  BIC:               } &    15864.5  \\\\\n",
       "\\textbf{}               &                    & \\textbf{  No. Observations:  } &    3299     \\\\\n",
       "\\textbf{Date:}          &  Fri, May 10 2024  & \\textbf{  Df Residuals:      } &    3298     \\\\\n",
       "\\textbf{Time:}          &      16:38:58      & \\textbf{  Df Model:          } &     1       \\\\\n",
       "\\bottomrule\n",
       "\\end{tabular}\n",
       "\\begin{tabular}{lccccc}\n",
       "            & \\textbf{coef} & \\textbf{std err} & \\textbf{t} & \\textbf{P$> |$t$|$} & \\textbf{95.0\\% Conf. Int.}  \\\\\n",
       "\\midrule\n",
       "\\textbf{mu} &       0.0633  &    3.929e-02     &     1.611  &          0.107       &    [-1.369e-02,  0.140]     \\\\\n",
       "                  & \\textbf{coef} & \\textbf{std err} & \\textbf{t} & \\textbf{P$> |$t$|$} & \\textbf{95.0\\% Conf. Int.}  \\\\\n",
       "\\midrule\n",
       "\\textbf{omega}    &       0.1226  &    5.395e-02     &     2.272  &      2.307e-02       &    [1.685e-02,  0.228]      \\\\\n",
       "\\textbf{alpha[1]} &       0.0952  &    1.880e-02     &     5.061  &      4.164e-07       &    [5.831e-02,  0.132]      \\\\\n",
       "\\textbf{gamma[1]} &       0.0430  &    2.633e-02     &     1.632  &          0.103       &   [-8.628e-03,9.460e-02]    \\\\\n",
       "\\textbf{beta[1]}  &       0.8784  &    2.291e-02     &    38.347  &        0.000         &     [  0.833,  0.923]       \\\\\n",
       "\\bottomrule\n",
       "\\end{tabular}\n",
       "%\\caption{Constant Mean - GJR-GARCH Model Results}\n",
       "\\end{center}\n",
       "\n",
       "Covariance estimator: robust"
      ],
      "text/plain": [
       "<class 'statsmodels.iolib.summary.Summary'>\n",
       "\"\"\"\n",
       "                   Constant Mean - GJR-GARCH Model Results                    \n",
       "==============================================================================\n",
       "Dep. Variable:            Log_Returns   R-squared:                       0.000\n",
       "Mean Model:             Constant Mean   Adj. R-squared:                  0.000\n",
       "Vol Model:                  GJR-GARCH   Log-Likelihood:               -7911.99\n",
       "Distribution:                  Normal   AIC:                           15834.0\n",
       "Method:            Maximum Likelihood   BIC:                           15864.5\n",
       "                                        No. Observations:                 3299\n",
       "Date:                Fri, May 10 2024   Df Residuals:                     3298\n",
       "Time:                        16:38:58   Df Model:                            1\n",
       "                                 Mean Model                                \n",
       "===========================================================================\n",
       "                 coef    std err          t      P>|t|     95.0% Conf. Int.\n",
       "---------------------------------------------------------------------------\n",
       "mu             0.0633  3.929e-02      1.611      0.107 [-1.369e-02,  0.140]\n",
       "                               Volatility Model                              \n",
       "=============================================================================\n",
       "                 coef    std err          t      P>|t|       95.0% Conf. Int.\n",
       "-----------------------------------------------------------------------------\n",
       "omega          0.1226  5.395e-02      2.272  2.307e-02    [1.685e-02,  0.228]\n",
       "alpha[1]       0.0952  1.880e-02      5.061  4.164e-07    [5.831e-02,  0.132]\n",
       "gamma[1]       0.0430  2.633e-02      1.632      0.103 [-8.628e-03,9.460e-02]\n",
       "beta[1]        0.8784  2.291e-02     38.347      0.000      [  0.833,  0.923]\n",
       "=============================================================================\n",
       "\n",
       "Covariance estimator: robust\n",
       "\"\"\""
      ]
     },
     "execution_count": 5,
     "metadata": {},
     "output_type": "execute_result"
    }
   ],
   "source": [
    "train, test = df.Log_Returns[:-test_size], df.Log_Returns[-test_size:]\n",
    "model = arch_model(train, p=1, o=1, q=1)\n",
    "model_fit = model.fit()\n",
    "model_fit.summary()"
   ]
  },
  {
   "cell_type": "code",
   "execution_count": 6,
   "id": "892fe879-0017-41da-942f-ebb8a68010aa",
   "metadata": {
    "scrolled": true
   },
   "outputs": [],
   "source": [
    "predictions = []\n",
    "for i in range(test_size):\n",
    "    train = df.Log_Returns[:-(test_size-i)]\n",
    "    model = arch_model(train, p=1, o=1, q=1)\n",
    "    model_fit = model.fit(disp='off')\n",
    "    pred = model_fit.forecast(horizon=1)\n",
    "    predictions.append(np.sqrt(pred.variance.values[-1,:][0]))\n",
    "\n",
    "predictions = pd.Series(predictions, index=df_test.index)\n",
    "df_test['predictions'] = predictions"
   ]
  },
  {
   "cell_type": "markdown",
   "id": "f5e50b0c-3096-4ef7-94de-bcf9195ee218",
   "metadata": {},
   "source": [
    "# Plot forecast results "
   ]
  },
  {
   "cell_type": "code",
   "execution_count": 7,
   "id": "186af099-4c13-4d1e-a851-6fc4bc7ee34b",
   "metadata": {},
   "outputs": [
    {
     "data": {
      "image/png": "[encoded data removed]",
      "text/plain": [
       "<Figure size 1400x600 with 1 Axes>"
      ]
     },
     "metadata": {},
     "output_type": "display_data"
    }
   ],
   "source": [
    "fig, ax = plt.subplots(figsize=(14, 6))\n",
    "\n",
    "# Plot 'std_dev' and 'predictions'\n",
    "ax.plot(df_test['Date'], df_test['std_dev'], label='True Volatility', linewidth=2)\n",
    "ax.plot(df_test['Date'], df_test['predictions'], label='Forecasted Volatility', linewidth=2)\n",
    "\n",
    "# Set the x-axis to show each year\n",
    "ax.xaxis.set_major_locator(mdates.YearLocator())\n",
    "ax.xaxis.set_major_formatter(mdates.DateFormatter('%Y'))\n",
    "\n",
    "# More layout \n",
    "plt.title('GJR-GARCH')\n",
    "plt.xlabel('Year')\n",
    "plt.ylabel('Volatility')\n",
    "plt.legend()\n",
    "plt.show()\n",
    "\n",
    "plt.rcParams.update({'font.size': 20})"
   ]
  },
  {
   "cell_type": "markdown",
   "id": "ae99f9e6-a614-4851-a5a9-040d40ea5cb7",
   "metadata": {},
   "source": [
    "# Model evaluation "
   ]
  },
  {
   "cell_type": "code",
   "execution_count": 8,
   "id": "9b2a5feb-d6ab-4284-8569-f463c25b3088",
   "metadata": {},
   "outputs": [],
   "source": [
    "# import sklearn.metrics\n",
    "from sklearn.metrics import mean_squared_error, r2_score, mean_absolute_error"
   ]
  },
  {
   "cell_type": "code",
   "execution_count": 9,
   "id": "15a43034-486d-4436-84e7-27889a95876e",
   "metadata": {},
   "outputs": [
    {
     "name": "stdout",
     "output_type": "stream",
     "text": [
      "R-squared (R^2): 0.022725288630963125\n"
     ]
    }
   ],
   "source": [
    "# oos r^2 for entire test_size\n",
    "r_squared = r2_score(df_test['std_dev'], predictions)\n",
    "print(\"R-squared (R^2):\", r_squared)"
   ]
  },
  {
   "cell_type": "code",
   "execution_count": 10,
   "id": "f173e83e-a930-4511-83f5-bb2ab2469438",
   "metadata": {},
   "outputs": [
    {
     "name": "stdout",
     "output_type": "stream",
     "text": [
      "MSE_1 0.361094995269432\n",
      "MAE_1 0.6009118032369076\n",
      "MedSE_1 0.361094995269432\n"
     ]
    }
   ],
   "source": [
    "# Horizon 1\n",
    "df_test1 = df_test[:1]\n",
    "\n",
    "# mse\n",
    "mse1 = mean_squared_error(df_test1['std_dev'], df_test1['predictions'])\n",
    "print('MSE_1', mse1)\n",
    "\n",
    "# mae \n",
    "mae1 = mean_absolute_error(df_test1['std_dev'], df_test1['predictions'])\n",
    "print('MAE_1', mae1)\n",
    "\n",
    "# median absolute error\n",
    "squared_errors1 = (df_test1['std_dev']-df_test1['predictions'])**2\n",
    "median_squared_errors1 = np.median(squared_errors1)\n",
    "print('MedSE_1', median_squared_errors1)"
   ]
  },
  {
   "cell_type": "code",
   "execution_count": 11,
   "id": "baf5fc85-4e3a-4cfd-b1b0-6d9ac3c55c47",
   "metadata": {},
   "outputs": [
    {
     "name": "stdout",
     "output_type": "stream",
     "text": [
      "MSE_5 1.1877679621197568\n",
      "MAE_5 0.8147158372485468\n",
      "MedSE_5 0.361094995269432\n"
     ]
    }
   ],
   "source": [
    "# Horizon 5\n",
    "df_test5 = df_test[:5]\n",
    "\n",
    "# mse\n",
    "mse5 = mean_squared_error(df_test5['std_dev'], df_test5['predictions'])\n",
    "print('MSE_5', mse5)\n",
    "\n",
    "# mae \n",
    "mae5 = mean_absolute_error(df_test5['std_dev'], df_test5['predictions'])\n",
    "print('MAE_5', mae5)\n",
    "\n",
    "# median absolute error\n",
    "squared_errors5 = (df_test5['std_dev'] - df_test5['predictions'])**2\n",
    "median_squared_errors5 = np.median(squared_errors5)\n",
    "print('MedSE_5', median_squared_errors5)"
   ]
  },
  {
   "cell_type": "code",
   "execution_count": 12,
   "id": "66528897-1579-4b21-bcab-0f5d3f99ce7b",
   "metadata": {},
   "outputs": [
    {
     "name": "stdout",
     "output_type": "stream",
     "text": [
      "MSE_10 2.1434946983302092\n",
      "MAE_10 1.2123701958446145\n",
      "MedSE_10 1.0317811465164248\n"
     ]
    }
   ],
   "source": [
    "# Horizon 10\n",
    "df_test10 = df_test[:10]\n",
    "\n",
    "# mse\n",
    "mse10 = mean_squared_error(df_test10['std_dev'], df_test10['predictions'])\n",
    "print('MSE_10', mse10)\n",
    "\n",
    "# mae \n",
    "mae10 = mean_absolute_error(df_test10['std_dev'], df_test10['predictions'])\n",
    "print('MAE_10', mae10)\n",
    "\n",
    "# median absolute error\n",
    "squared_errors10 = (df_test10['std_dev'] - df_test10['predictions'])**2\n",
    "median_squared_errors10 = np.median(squared_errors10)\n",
    "print('MedSE_10', median_squared_errors10)"
   ]
  },
  {
   "cell_type": "code",
   "execution_count": 13,
   "id": "81fa236c-d3a1-42b5-b31b-773269e2125e",
   "metadata": {},
   "outputs": [
    {
     "name": "stdout",
     "output_type": "stream",
     "text": [
      "MSE_15 2.077630011903161\n",
      "MAE_15 1.186070603140913\n",
      "MedSE_15 1.0975156807908875\n"
     ]
    }
   ],
   "source": [
    "# Horizon 15\n",
    "df_test15 = df_test[:15]\n",
    "\n",
    "# mse\n",
    "mse15 = mean_squared_error(df_test15['std_dev'], df_test15['predictions'])\n",
    "print('MSE_15', mse15)\n",
    "\n",
    "# mae \n",
    "mae15 = mean_absolute_error(df_test15['std_dev'], df_test15['predictions'])\n",
    "print('MAE_15', mae15)\n",
    "\n",
    "# median absolute error\n",
    "squared_errors15 = (df_test15['std_dev'] - df_test15['predictions'])**2\n",
    "median_squared_errors15 = np.median(squared_errors15)\n",
    "print('MedSE_15', median_squared_errors15)"
   ]
  },
  {
   "cell_type": "code",
   "execution_count": 14,
   "id": "13d02668-dc6d-4a6d-b5a9-645728a036ad",
   "metadata": {},
   "outputs": [
    {
     "name": "stdout",
     "output_type": "stream",
     "text": [
      "MSE_20 2.1807187234801315\n",
      "MAE_20 1.2110074896146443\n",
      "MedSE_20 1.0317811465164248\n"
     ]
    }
   ],
   "source": [
    "# Horizon 20\n",
    "df_test20 = df_test[:20]\n",
    "\n",
    "# mse\n",
    "mse20 = mean_squared_error(df_test20['std_dev'], df_test20['predictions'])\n",
    "print('MSE_20', mse20)\n",
    "\n",
    "# mae \n",
    "mae20 = mean_absolute_error(df_test20['std_dev'], df_test20['predictions'])\n",
    "print('MAE_20', mae20)\n",
    "\n",
    "# median absolute error\n",
    "squared_errors20 = (df_test20['std_dev'] - df_test20['predictions'])**2\n",
    "median_squared_errors20 = np.median(squared_errors20)\n",
    "print('MedSE_20', median_squared_errors20)"
   ]
  },
  {
   "cell_type": "code",
   "execution_count": 15,
   "id": "6d285178-cba5-4a88-b635-df0f2ddf4e6b",
   "metadata": {},
   "outputs": [
    {
     "name": "stdout",
     "output_type": "stream",
     "text": [
      "MSE_25 2.0905217662110425\n",
      "MAE_25 1.164678526249531\n",
      "MedSE_25 0.966046612241962\n"
     ]
    }
   ],
   "source": [
    "# Horizon 25\n",
    "df_test25 = df_test[:25]\n",
    "\n",
    "# mse\n",
    "mse25 = mean_squared_error(df_test25['std_dev'], df_test25['predictions'])\n",
    "print('MSE_25', mse25)\n",
    "\n",
    "# mae \n",
    "mae25 = mean_absolute_error(df_test25['std_dev'], df_test25['predictions'])\n",
    "print('MAE_25', mae25)\n",
    "\n",
    "# median absolute error\n",
    "squared_errors25 = (df_test25['std_dev'] - df_test25['predictions'])**2\n",
    "median_squared_errors25 = np.median(squared_errors25)\n",
    "print('MedSE_25', median_squared_errors25)"
   ]
  },
  {
   "cell_type": "code",
   "execution_count": 16,
   "id": "64783fca-4543-490c-9ee6-64b1646ee028",
   "metadata": {},
   "outputs": [
    {
     "name": "stdout",
     "output_type": "stream",
     "text": [
      "MSE_30 2.011968463675513\n",
      "MAE_30 1.1497787515215026\n",
      "MedSE_30 0.8908148517026008\n"
     ]
    }
   ],
   "source": [
    "# Horizon 30\n",
    "df_test30 = df_test[:30]\n",
    "\n",
    "# mse\n",
    "mse30 = mean_squared_error(df_test30['std_dev'], df_test30['predictions'])\n",
    "print('MSE_30', mse30)\n",
    "\n",
    "# mae \n",
    "mae30 = mean_absolute_error(df_test30['std_dev'], df_test30['predictions'])\n",
    "print('MAE_30', mae30)\n",
    "\n",
    "# median absolute error\n",
    "squared_errors30 = (df_test30['std_dev'] - df_test30['predictions'])**2\n",
    "median_squared_errors30 = np.median(squared_errors30)\n",
    "print('MedSE_30', median_squared_errors30)"
   ]
  },
  {
   "cell_type": "code",
   "execution_count": 17,
   "id": "18e5f866-7285-4d45-ba5e-7191a01e6f10",
   "metadata": {},
   "outputs": [
    {
     "name": "stdout",
     "output_type": "stream",
     "text": [
      "MSE_252 4.0884295826210755\n",
      "MAE_252 1.5161157220956445\n",
      "MedSE_252 1.5999257375368154\n"
     ]
    }
   ],
   "source": [
    "# Horizon 252\n",
    "df_test252 = df_test[:252]\n",
    "\n",
    "# mse\n",
    "mse252 = mean_squared_error(df_test252['std_dev'], df_test252['predictions'])\n",
    "print('MSE_252', mse252)\n",
    "\n",
    "# mae \n",
    "mae252 = mean_absolute_error(df_test252['std_dev'], df_test252['predictions'])\n",
    "print('MAE_252', mae252)\n",
    "\n",
    "# median absolute error\n",
    "squared_errors252 = (df_test252['std_dev'] - df_test252['predictions'])**2\n",
    "median_squared_errors252 = np.median(squared_errors252)\n",
    "print('MedSE_252', median_squared_errors252)"
   ]
  },
  {
   "cell_type": "code",
   "execution_count": 18,
   "id": "9a9fe9c7-9808-4bf5-922a-21a4cd27acdf",
   "metadata": {},
   "outputs": [
    {
     "name": "stdout",
     "output_type": "stream",
     "text": [
      "MSE_2021 4.103348093363964\n",
      "MAE_2021 1.5106225560320354\n",
      "MedSE_2021 1.548443816868782\n"
     ]
    }
   ],
   "source": [
    "# Horizon 2021\n",
    "start_date2021 = '2021-01-22'\n",
    "end_date2021 = '2021-12-31'\n",
    "\n",
    "df_test2021 = df_test[(df_test['Date'] >= start_date2021) & (df_test['Date'] <= end_date2021)]\n",
    "\n",
    "# mse\n",
    "mse2021 = mean_squared_error(df_test2021['std_dev'], df_test2021['predictions'])\n",
    "print('MSE_2021', mse2021)\n",
    "\n",
    "# mae \n",
    "mae2021 = mean_absolute_error(df_test2021['std_dev'], df_test2021['predictions'])\n",
    "print('MAE_2021', mae2021)\n",
    "\n",
    "# median absolute error\n",
    "squared_errors2021 = (df_test2021['std_dev'] - df_test2021['predictions'])**2\n",
    "median_squared_errors2021 = np.median(squared_errors2021)\n",
    "print('MedSE_2021', median_squared_errors2021)"
   ]
  },
  {
   "cell_type": "code",
   "execution_count": 19,
   "id": "fbe67db3-13a1-460e-a66e-b1193f8ab61d",
   "metadata": {},
   "outputs": [
    {
     "name": "stdout",
     "output_type": "stream",
     "text": [
      "MSE_2022 5.197680326970997\n",
      "MAE_2022 1.7550079729653676\n",
      "MedSE_2022 2.4700027283376293\n"
     ]
    }
   ],
   "source": [
    "# Horizon 2022\n",
    "start_date2022 = '2022-01-01'\n",
    "end_date2022 = '2022-12-31'\n",
    "\n",
    "df_test2022 = df_test[(df_test['Date'] >= start_date2022) & (df_test['Date'] <= end_date2022)]\n",
    "\n",
    "# mse\n",
    "mse2022 = mean_squared_error(df_test2022['std_dev'], df_test2022['predictions'])\n",
    "print('MSE_2022', mse2022)\n",
    "\n",
    "# mae \n",
    "mae2022 = mean_absolute_error(df_test2022['std_dev'], df_test2022['predictions'])\n",
    "print('MAE_2022', mae2022)\n",
    "\n",
    "# median absolute error\n",
    "squared_errors2022 = (df_test2022['std_dev'] - df_test2022['predictions'])**2\n",
    "median_squared_errors2022 = np.median(squared_errors2022)\n",
    "print('MedSE_2022', median_squared_errors2022)"
   ]
  },
  {
   "cell_type": "code",
   "execution_count": 20,
   "id": "816fd34f-d0af-4df7-bd69-316a4488dceb",
   "metadata": {},
   "outputs": [
    {
     "name": "stdout",
     "output_type": "stream",
     "text": [
      "MSE_2023 1.6495313851779823\n",
      "MAE_2023 1.0865399600915993\n",
      "MedSE_2023 1.0452476270321316\n"
     ]
    }
   ],
   "source": [
    "# Horizon 2023\n",
    "start_date2023 = '2023-01-01'\n",
    "end_date2023 = '2023-12-31'\n",
    "\n",
    "df_test2023 = df_test[(df_test['Date'] >= start_date2023) & (df_test['Date'] <= end_date2023)]\n",
    "\n",
    "# mse\n",
    "mse2023 = mean_squared_error(df_test2023['std_dev'], df_test2023['predictions'])\n",
    "print('MSE_2023', mse2023)\n",
    "\n",
    "# mae \n",
    "mae2023 = mean_absolute_error(df_test2023['std_dev'], df_test2023['predictions'])\n",
    "print('MAE_2023', mae2023)\n",
    "\n",
    "# median absolute error\n",
    "squared_errors2023 = (df_test2023['std_dev'] - df_test2023['predictions'])**2\n",
    "median_squared_errors2023 = np.median(squared_errors2023)\n",
    "print('MedSE_2023', median_squared_errors2023)"
   ]
  },
  {
   "cell_type": "code",
   "execution_count": 21,
   "id": "fd6f69a6-0b26-4c6d-8ccd-d4f5956f4f76",
   "metadata": {},
   "outputs": [
    {
     "name": "stdout",
     "output_type": "stream",
     "text": [
      "MSE_2024 2.860373721217731\n",
      "MAE_2024 1.3947666576054314\n",
      "MedSE_2024 1.8828678939784087\n"
     ]
    }
   ],
   "source": [
    "# Horizon 2024\n",
    "start_date2024 = '2024-01-01'\n",
    "\n",
    "df_test2024 = df_test[(df_test['Date'] >= start_date2024)]\n",
    "\n",
    "# mse\n",
    "mse2024 = mean_squared_error(df_test2024['std_dev'], df_test2024['predictions'])\n",
    "print('MSE_2024', mse2024)\n",
    "\n",
    "# mae \n",
    "mae2024 = mean_absolute_error(df_test2024['std_dev'], df_test2024['predictions'])\n",
    "print('MAE_2024', mae2024)\n",
    "\n",
    "# median absolute error\n",
    "squared_errors2024 = (df_test2024['std_dev'] - df_test2024['predictions'])**2\n",
    "median_squared_errors2024 = np.median(squared_errors2024)\n",
    "print('MedSE_2024', median_squared_errors2024)"
   ]
  },
  {
   "cell_type": "markdown",
   "id": "f3607437-9282-4165-9511-07420b825f59",
   "metadata": {},
   "source": [
    "# summary of model evaluation"
   ]
  },
  {
   "cell_type": "code",
   "execution_count": 22,
   "id": "24bcc124-dbe3-446b-bdaa-a7ebc22b7039",
   "metadata": {},
   "outputs": [
    {
     "name": "stdout",
     "output_type": "stream",
     "text": [
      "R-squared (R^2): 0.022725288630963125\n",
      "MSE_1: 0.361094995269432\n",
      "MSE_5: 1.1877679621197568\n",
      "MSE_10: 2.1434946983302092\n",
      "MSE_15: 2.077630011903161\n",
      "MSE_20: 2.1807187234801315\n",
      "MSE_25: 2.0905217662110425\n",
      "MSE_30: 2.011968463675513\n",
      "MSE_252: 4.0884295826210755\n",
      "MSE_2021: 4.103348093363964\n",
      "MSE_2022: 5.197680326970997\n",
      "MSE_2023: 1.6495313851779823\n",
      "MSE_2024: 2.860373721217731\n"
     ]
    }
   ],
   "source": [
    "# MSE all horizons + R^2\n",
    "print(\"R-squared (R^2):\", r_squared)\n",
    "print(\"MSE_1:\", mse1)\n",
    "print(\"MSE_5:\", mse5)\n",
    "print(\"MSE_10:\", mse10)\n",
    "print(\"MSE_15:\", mse15)\n",
    "print(\"MSE_20:\", mse20)\n",
    "print(\"MSE_25:\", mse25)\n",
    "print(\"MSE_30:\", mse30)\n",
    "print(\"MSE_252:\", mse252)\n",
    "print(\"MSE_2021:\", mse2021)\n",
    "print(\"MSE_2022:\", mse2022)\n",
    "print(\"MSE_2023:\", mse2023)\n",
    "print(\"MSE_2024:\", mse2024)"
   ]
  },
  {
   "cell_type": "code",
   "execution_count": 23,
   "id": "82493096-24ce-4141-b3f3-7bb27b5439ea",
   "metadata": {},
   "outputs": [
    {
     "name": "stdout",
     "output_type": "stream",
     "text": [
      "MAE_1: 0.6009118032369076\n",
      "MAE_5: 0.8147158372485468\n",
      "MAE_10: 1.2123701958446145\n",
      "MAE_15: 1.186070603140913\n",
      "MAE_20: 1.2110074896146443\n",
      "MAE_25: 1.164678526249531\n",
      "MAE_30: 1.1497787515215026\n",
      "MAE_252: 1.5161157220956445\n",
      "MAE_2021: 1.5106225560320354\n",
      "MAE_2022: 1.7550079729653676\n",
      "MAE_2023: 1.0865399600915993\n",
      "MAE_2024: 1.3947666576054314\n"
     ]
    }
   ],
   "source": [
    "# MAE all horizons\n",
    "print(\"MAE_1:\", mae1)\n",
    "print(\"MAE_5:\", mae5)\n",
    "print(\"MAE_10:\", mae10)\n",
    "print(\"MAE_15:\", mae15)\n",
    "print(\"MAE_20:\", mae20)\n",
    "print(\"MAE_25:\", mae25)\n",
    "print(\"MAE_30:\", mae30)\n",
    "print(\"MAE_252:\", mae252)\n",
    "print(\"MAE_2021:\", mae2021)\n",
    "print(\"MAE_2022:\", mae2022)\n",
    "print(\"MAE_2023:\", mae2023)\n",
    "print(\"MAE_2024:\", mae2024)"
   ]
  },
  {
   "cell_type": "code",
   "execution_count": 24,
   "id": "f83721f7-04b8-4218-b546-32766d50e212",
   "metadata": {},
   "outputs": [
    {
     "name": "stdout",
     "output_type": "stream",
     "text": [
      "MedSE_1: 0.361094995269432\n",
      "MedSE_5: 0.361094995269432\n",
      "MedSE_10: 1.0317811465164248\n",
      "MedSE_15: 1.0975156807908875\n",
      "MedSE_20: 1.0317811465164248\n",
      "MedSE_25: 0.966046612241962\n",
      "MedSE_30: 0.8908148517026008\n",
      "MedSE_252: 1.5999257375368154\n",
      "MedSE_2021: 1.548443816868782\n",
      "MedSE_2022: 2.4700027283376293\n",
      "MedSE_2023: 1.0452476270321316\n",
      "MedSE_2024: 1.8828678939784087\n"
     ]
    }
   ],
   "source": [
    "# Median squared error\n",
    "print(\"MedSE_1:\", median_squared_errors1)\n",
    "print(\"MedSE_5:\", median_squared_errors5)\n",
    "print(\"MedSE_10:\", median_squared_errors10)\n",
    "print(\"MedSE_15:\", median_squared_errors15)\n",
    "print(\"MedSE_20:\", median_squared_errors20)\n",
    "print(\"MedSE_25:\", median_squared_errors25)\n",
    "print(\"MedSE_30:\", median_squared_errors30)\n",
    "print(\"MedSE_252:\", median_squared_errors252)\n",
    "print(\"MedSE_2021:\", median_squared_errors2021)\n",
    "print(\"MedSE_2022:\", median_squared_errors2022)\n",
    "print(\"MedSE_2023:\", median_squared_errors2023)\n",
    "print(\"MedSE_2024:\", median_squared_errors2024)"
   ]
  },
  {
   "cell_type": "code",
   "execution_count": null,
   "id": "72aeca59-26dd-4061-87b6-df88fe081802",
   "metadata": {},
   "outputs": [],
   "source": []
  }
 ],
 "metadata": {
  "kernelspec": {
   "display_name": "Python 3 (ipykernel)",
   "language": "python",
   "name": "python3"
  },
  "language_info": {
   "codemirror_mode": {
    "name": "ipython",
    "version": 3
   },
   "file_extension": ".py",
   "mimetype": "text/x-python",
   "name": "python",
   "nbconvert_exporter": "python",
   "pygments_lexer": "ipython3",
   "version": "3.11.7"
  }
 },
 "nbformat": 4,
 "nbformat_minor": 5
}
