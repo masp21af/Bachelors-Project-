{
 "cells": [
  {
   "cell_type": "code",
   "execution_count": 1,
   "id": "fc32d23f-0a44-4ae5-ae05-bd753401d9e1",
   "metadata": {},
   "outputs": [],
   "source": [
    "#Importing libraries and setting seed\n",
    "seed = 45871\n",
    "import pandas as pd\n",
    "import numpy as np\n",
    "import math\n",
    "import statistics\n",
    "import scipy.stats as stats\n",
    "import matplotlib.pyplot as plt\n",
    "import matplotlib.dates as mdates\n",
    "from pandas.plotting import register_matplotlib_converters\n",
    "from statsmodels.graphics.tsaplots import plot_acf, plot_pacf\n",
    "import statsmodels.api as sm\n",
    "from statsmodels.tsa.stattools import adfuller\n",
    "from statsmodels.stats.diagnostic import acorr_ljungbox\n",
    "from arch import arch_model"
   ]
  },
  {
   "cell_type": "markdown",
   "id": "48f6c1ff-8a3c-4bf1-9525-bd94bc0b9872",
   "metadata": {},
   "source": [
    "# Load data + compute new columns"
   ]
  },
  {
   "cell_type": "code",
   "execution_count": 2,
   "id": "d4672c3e-b8ba-4d3c-a3c5-d130a1125b69",
   "metadata": {},
   "outputs": [
    {
     "name": "stdout",
     "output_type": "stream",
     "text": [
      "        Date  Last Price  Log_Returns   std_dev\n",
      "0 2005-04-26       17.15    -1.734148  3.700323\n",
      "1 2005-04-27       16.35    -4.777028  2.151641\n",
      "2 2005-04-28       15.95    -2.476907  1.626431\n",
      "3 2005-04-29       16.40     2.782251  3.718786\n",
      "4 2005-05-03       16.10    -1.846206  3.272813\n",
      "           Date  Last Price  Log_Returns   std_dev\n",
      "4871 2024-03-25       63.74     5.465136  0.982766\n",
      "4872 2024-03-26       61.06    -4.295532  6.901835\n",
      "4873 2024-03-27       61.21     0.245359  3.210895\n",
      "4874 2024-03-28       60.58    -1.034577  0.905051\n",
      "4875 2024-04-01       60.58     0.000000  0.731556\n"
     ]
    }
   ],
   "source": [
    "#Loading the data file\n",
    "file_path = 'test data_ascending.xlsx'\n",
    "df = pd.read_excel(file_path)\n",
    "\n",
    "# Calculating log returns\n",
    "df['Log_Returns'] = (np.log(df['Last Price']) - np.log(df['Last Price'].shift(1)))*100\n",
    "\n",
    "# Calculate volatility on log returns \n",
    "window_size = 2 \n",
    "df['std_dev'] = df['Log_Returns'].rolling(window=window_size).std()\n",
    "\n",
    "df = df.dropna().reset_index(drop=True)\n",
    "\n",
    "# Display data frame\n",
    "print(df.head())\n",
    "print(df.tail())"
   ]
  },
  {
   "cell_type": "markdown",
   "id": "d276e2a0-110b-4dec-9003-05db388367ff",
   "metadata": {},
   "source": [
    "# Split data frame"
   ]
  },
  {
   "cell_type": "code",
   "execution_count": 3,
   "id": "70d543ce-7578-4083-b958-b255108846fe",
   "metadata": {},
   "outputs": [
    {
     "name": "stdout",
     "output_type": "stream",
     "text": [
      "          Date  Last Price  Log_Returns   std_dev\n",
      "753 2008-04-03       23.47     0.213265  2.620107\n",
      "754 2008-04-04       23.31    -0.684056  0.634502\n",
      "755 2008-04-07       23.82     2.164311  2.014099\n",
      "756 2008-04-08       23.51    -1.309970  2.456688\n",
      "757 2008-04-09       23.69     0.762716  1.465610\n",
      "           Date  Last Price  Log_Returns   std_dev\n",
      "4871 2024-03-25       63.74     5.465136  0.982766\n",
      "4872 2024-03-26       61.06    -4.295532  6.901835\n",
      "4873 2024-03-27       61.21     0.245359  3.210895\n",
      "4874 2024-03-28       60.58    -1.034577  0.905051\n",
      "4875 2024-04-01       60.58     0.000000  0.731556\n"
     ]
    }
   ],
   "source": [
    "start_date = '2008-04-03'\n",
    "df = df[df['Date'] >= start_date]\n",
    "\n",
    "print(df.head())\n",
    "print(df.tail())"
   ]
  },
  {
   "cell_type": "code",
   "execution_count": 4,
   "id": "86cfe695-9644-4373-aaaa-100d0b270e4b",
   "metadata": {},
   "outputs": [],
   "source": [
    "# Split data frame into training data and test data\n",
    "test_size = int(len(df) * 0.2)  \n",
    "df_train = df[:-test_size]\n",
    "df_test = df[-test_size:]\n",
    "\n",
    "# Exclude NaN values from the date frames \n",
    "df_train = df_train.dropna()\n",
    "df_test = df_test.dropna()"
   ]
  },
  {
   "cell_type": "markdown",
   "id": "5d1618ed-5c31-4d7d-b3ef-34d452e27df1",
   "metadata": {},
   "source": [
    "# Train model + predict observations"
   ]
  },
  {
   "cell_type": "code",
   "execution_count": 5,
   "id": "79b1a798-47b4-4b24-bc69-167ccb9bf4e5",
   "metadata": {},
   "outputs": [
    {
     "name": "stdout",
     "output_type": "stream",
     "text": [
      "                            OLS Regression Results                            \n",
      "==============================================================================\n",
      "Dep. Variable:                std_dev   R-squared:                       0.186\n",
      "Model:                            OLS   Adj. R-squared:                  0.185\n",
      "Method:                 Least Squares   F-statistic:                     61.19\n",
      "Date:                Fri, 10 May 2024   Prob (F-statistic):           1.73e-38\n",
      "Time:                        16:41:47   Log-Likelihood:                -6943.5\n",
      "No. Observations:                3277   AIC:                         1.390e+04\n",
      "Df Residuals:                    3273   BIC:                         1.392e+04\n",
      "Df Model:                           3                                         \n",
      "Covariance Type:                  HAC                                         \n",
      "==============================================================================\n",
      "                 coef    std err          z      P>|z|      [0.025      0.975]\n",
      "------------------------------------------------------------------------------\n",
      "const          1.0338      0.080     13.003      0.000       0.878       1.190\n",
      "Lag1           0.3945      0.034     11.578      0.000       0.328       0.461\n",
      "Lag5           0.0830      0.021      3.933      0.000       0.042       0.124\n",
      "Lag22          0.0506      0.021      2.447      0.014       0.010       0.091\n",
      "==============================================================================\n",
      "Omnibus:                     1948.965   Durbin-Watson:                   2.084\n",
      "Prob(Omnibus):                  0.000   Jarque-Bera (JB):            41711.564\n",
      "Skew:                           2.413   Prob(JB):                         0.00\n",
      "Kurtosis:                      19.799   Cond. No.                         8.39\n",
      "==============================================================================\n",
      "\n",
      "Notes:\n",
      "[1] Standard Errors are heteroscedasticity and autocorrelation robust (HAC) using 1 lags and without small sample correction\n"
     ]
    }
   ],
   "source": [
    "# Create lagged returns at different frequencies (daily, weekly, monthly)\n",
    "df_train['Lag1'] = df_train['std_dev'].shift(1)  # Daily lag\n",
    "df_train['Lag5'] = df_train['std_dev'].shift(5)  # Weekly lag\n",
    "df_train['Lag22'] = df_train['std_dev'].shift(22)  # Monthly lag\n",
    "\n",
    "# Drop missing values\n",
    "df_train.dropna(inplace=True)\n",
    "\n",
    "# Define the independent variables (lags)\n",
    "X = df_train[['Lag1', 'Lag5', 'Lag22']]\n",
    "\n",
    "# Add a constant term to the independent variables\n",
    "X = sm.add_constant(X)\n",
    "\n",
    "# Define the dependent variable (current return)\n",
    "y = df_train['std_dev']\n",
    "\n",
    "# Fit the HAR model using OLS (Ordinary Least Squares) regression\n",
    "model = sm.OLS(y, X)\n",
    "result = model.fit(cov_type='HAC', cov_kwds={'maxlags': 1})\n",
    "\n",
    "# Display the results summary\n",
    "print(result.summary())"
   ]
  },
  {
   "cell_type": "code",
   "execution_count": 6,
   "id": "439adb17-56cb-429f-9d41-71eb41c10061",
   "metadata": {},
   "outputs": [],
   "source": [
    "# Create the same lagged features for the test data as in the training data\n",
    "df['Lag1'] = df['std_dev'].shift(1)  # Daily lag\n",
    "df['Lag5'] = df['std_dev'].shift(5)  # Weekly lag\n",
    "df['Lag22'] = df['std_dev'].shift(22)  # Monthly lag\n",
    "\n",
    "# Drop NaN values resulting from the lagging operation\n",
    "df.dropna(inplace=True)\n",
    "\n",
    "# Define the independent variables for the test data\n",
    "X_test = df[['Lag1', 'Lag5', 'Lag22']]\n",
    "X_test = sm.add_constant(X_test)  # Add constant term\n",
    "\n",
    "# Predict the test period\n",
    "predictions = result.predict(X_test)\n",
    "\n",
    "# Create a Series with the predicted values, setting the correct index\n",
    "predictions = pd.Series(predictions, index=df.index)\n",
    "df['predictions'] = predictions\n",
    "df_test['predictions'] = predictions"
   ]
  },
  {
   "cell_type": "markdown",
   "id": "bc55968f-05fe-42ad-9bab-02b9c75c1add",
   "metadata": {},
   "source": [
    "# Plot forecast results "
   ]
  },
  {
   "cell_type": "code",
   "execution_count": 7,
   "id": "3b55bb52-922e-423b-8bc9-43aee0a4b812",
   "metadata": {},
   "outputs": [
    {
     "data": {
      "image/png": "[encoded data removed]",
      "text/plain": [
       "<Figure size 1400x600 with 1 Axes>"
      ]
     },
     "metadata": {},
     "output_type": "display_data"
    }
   ],
   "source": [
    "fig, ax = plt.subplots(figsize=(14, 6))\n",
    "\n",
    "# Plot 'std_dev' and 'predictions'\n",
    "ax.plot(df.Date[-test_size:], df.std_dev[-test_size:], label='True Volatility', linewidth=2)\n",
    "ax.plot(df.Date[-test_size:], df.predictions[-test_size:], label='Forecasted Volatility', linewidth=2)\n",
    "\n",
    "# Set the x-axis to show each year\n",
    "ax.xaxis.set_major_locator(mdates.YearLocator())\n",
    "ax.xaxis.set_major_formatter(mdates.DateFormatter('%Y'))\n",
    "\n",
    "# More layout \n",
    "plt.title('HAR-RV')\n",
    "plt.xlabel('Year')\n",
    "plt.ylabel('Volatility')\n",
    "plt.legend()\n",
    "plt.show()\n",
    "\n",
    "plt.rcParams.update({'font.size': 20})"
   ]
  },
  {
   "cell_type": "markdown",
   "id": "ae99f9e6-a614-4851-a5a9-040d40ea5cb7",
   "metadata": {},
   "source": [
    "# Model evaluation "
   ]
  },
  {
   "cell_type": "code",
   "execution_count": 8,
   "id": "9b2a5feb-d6ab-4284-8569-f463c25b3088",
   "metadata": {},
   "outputs": [],
   "source": [
    "# import sklearn.metrics\n",
    "from sklearn.metrics import mean_squared_error, r2_score, mean_absolute_error"
   ]
  },
  {
   "cell_type": "code",
   "execution_count": 9,
   "id": "15a43034-486d-4436-84e7-27889a95876e",
   "metadata": {},
   "outputs": [
    {
     "name": "stdout",
     "output_type": "stream",
     "text": [
      "R-squared (R^2): 0.1809212645747854\n"
     ]
    }
   ],
   "source": [
    "# oos r^2 for entire test_size\n",
    "r_squared = r2_score(df['std_dev'], predictions)\n",
    "print(\"R-squared (R^2):\", r_squared)"
   ]
  },
  {
   "cell_type": "code",
   "execution_count": 10,
   "id": "79a6b3c6-a4df-40b0-b99f-170d7ca42c4b",
   "metadata": {},
   "outputs": [
    {
     "name": "stdout",
     "output_type": "stream",
     "text": [
      "MSE_1 0.09219147175478337\n",
      "MAE_1 0.3036304855491019\n",
      "MedSE_1 0.09219147175478337\n"
     ]
    }
   ],
   "source": [
    "# Horizon 1\n",
    "df_test1 = df_test[:1]\n",
    "\n",
    "# mse\n",
    "mse1 = mean_squared_error(df_test1['std_dev'], df_test1['predictions'])\n",
    "print('MSE_1', mse1)\n",
    "\n",
    "# mae \n",
    "mae1 = mean_absolute_error(df_test1['std_dev'], df_test1['predictions'])\n",
    "print('MAE_1', mae1)\n",
    "\n",
    "# median absolute error\n",
    "squared_errors1 = (df_test1['std_dev']-df_test1['predictions'])**2\n",
    "median_squared_errors1 = np.median(squared_errors1)\n",
    "print('MedSE_1', median_squared_errors1)"
   ]
  },
  {
   "cell_type": "code",
   "execution_count": 11,
   "id": "826433ee-5df1-40a1-8f34-116103833b48",
   "metadata": {},
   "outputs": [
    {
     "name": "stdout",
     "output_type": "stream",
     "text": [
      "MSE_5 0.755125909211957\n",
      "MAE_5 0.5518955721245085\n",
      "MedSE_5 0.07631910771567264\n"
     ]
    }
   ],
   "source": [
    "# Horizon 5\n",
    "df_test5 = df_test[:5]\n",
    "\n",
    "# mse\n",
    "mse5 = mean_squared_error(df_test5['std_dev'], df_test5['predictions'])\n",
    "print('MSE_5', mse5)\n",
    "\n",
    "# mae \n",
    "mae5 = mean_absolute_error(df_test5['std_dev'], df_test5['predictions'])\n",
    "print('MAE_5', mae5)\n",
    "\n",
    "# median absolute error\n",
    "squared_errors5 = (df_test5['std_dev'] - df_test5['predictions'])**2\n",
    "median_squared_errors5 = np.median(squared_errors5)\n",
    "print('MedSE_5', median_squared_errors5)"
   ]
  },
  {
   "cell_type": "code",
   "execution_count": 12,
   "id": "21c0e3f5-0c56-4524-83dc-315af16782f1",
   "metadata": {},
   "outputs": [
    {
     "name": "stdout",
     "output_type": "stream",
     "text": [
      "MSE_10 3.216282183311468\n",
      "MAE_10 1.3619931208409313\n",
      "MedSE_10 1.4179260225448465\n"
     ]
    }
   ],
   "source": [
    "# Horizon 10\n",
    "df_test10 = df_test[:10]\n",
    "\n",
    "# mse\n",
    "mse10 = mean_squared_error(df_test10['std_dev'], df_test10['predictions'])\n",
    "print('MSE_10', mse10)\n",
    "\n",
    "# mae \n",
    "mae10 = mean_absolute_error(df_test10['std_dev'], df_test10['predictions'])\n",
    "print('MAE_10', mae10)\n",
    "\n",
    "# median absolute error\n",
    "squared_errors10 = (df_test10['std_dev'] - df_test10['predictions'])**2\n",
    "median_squared_errors10 = np.median(squared_errors10)\n",
    "print('MedSE_10', median_squared_errors10)"
   ]
  },
  {
   "cell_type": "code",
   "execution_count": 13,
   "id": "fc8484d3-1999-4d7c-86c9-3064eb214798",
   "metadata": {},
   "outputs": [
    {
     "name": "stdout",
     "output_type": "stream",
     "text": [
      "MSE_15 2.4505074409156418\n",
      "MAE_15 1.2018621188407335\n",
      "MedSE_15 0.8512094880677558\n"
     ]
    }
   ],
   "source": [
    "# Horizon 15\n",
    "df_test15 = df_test[:15]\n",
    "\n",
    "# mse\n",
    "mse15 = mean_squared_error(df_test15['std_dev'], df_test15['predictions'])\n",
    "print('MSE_15', mse15)\n",
    "\n",
    "# mae \n",
    "mae15 = mean_absolute_error(df_test15['std_dev'], df_test15['predictions'])\n",
    "print('MAE_15', mae15)\n",
    "\n",
    "# median absolute error\n",
    "squared_errors15 = (df_test15['std_dev'] - df_test15['predictions'])**2\n",
    "median_squared_errors15 = np.median(squared_errors15)\n",
    "print('MedSE_15', median_squared_errors15)"
   ]
  },
  {
   "cell_type": "code",
   "execution_count": 14,
   "id": "01042dc0-02ac-45cb-a785-80fa72151804",
   "metadata": {},
   "outputs": [
    {
     "name": "stdout",
     "output_type": "stream",
     "text": [
      "MSE_20 2.242059313246849\n",
      "MAE_20 1.1687053481280985\n",
      "MedSE_20 0.7445034163248887\n"
     ]
    }
   ],
   "source": [
    "# Horizon 20\n",
    "df_test20 = df_test[:20]\n",
    "\n",
    "# mse\n",
    "mse20 = mean_squared_error(df_test20['std_dev'], df_test20['predictions'])\n",
    "print('MSE_20', mse20)\n",
    "\n",
    "# mae \n",
    "mae20 = mean_absolute_error(df_test20['std_dev'], df_test20['predictions'])\n",
    "print('MAE_20', mae20)\n",
    "\n",
    "# median absolute error\n",
    "squared_errors20 = (df_test20['std_dev'] - df_test20['predictions'])**2\n",
    "median_squared_errors20 = np.median(squared_errors20)\n",
    "print('MedSE_20', median_squared_errors20)"
   ]
  },
  {
   "cell_type": "code",
   "execution_count": 15,
   "id": "cb514e8f-864a-4b96-9c82-94b8d2d3bdc4",
   "metadata": {},
   "outputs": [
    {
     "name": "stdout",
     "output_type": "stream",
     "text": [
      "MSE_25 2.0319499764912714\n",
      "MAE_25 1.1113849005673233\n",
      "MedSE_25 0.7457807498473926\n"
     ]
    }
   ],
   "source": [
    "# Horizon 25\n",
    "df_test25 = df_test[:25]\n",
    "\n",
    "# mse\n",
    "mse25 = mean_squared_error(df_test25['std_dev'], df_test25['predictions'])\n",
    "print('MSE_25', mse25)\n",
    "\n",
    "# mae \n",
    "mae25 = mean_absolute_error(df_test25['std_dev'], df_test25['predictions'])\n",
    "print('MAE_25', mae25)\n",
    "\n",
    "# median absolute error\n",
    "squared_errors25 = (df_test25['std_dev'] - df_test25['predictions'])**2\n",
    "median_squared_errors25 = np.median(squared_errors25)\n",
    "print('MedSE_25', median_squared_errors25)"
   ]
  },
  {
   "cell_type": "code",
   "execution_count": 16,
   "id": "9a908308-b27a-4658-85ad-e779845fe4e0",
   "metadata": {},
   "outputs": [
    {
     "name": "stdout",
     "output_type": "stream",
     "text": [
      "MSE_30 1.952655031019549\n",
      "MAE_30 1.083835044126494\n",
      "MedSE_30 0.6917890472147071\n"
     ]
    }
   ],
   "source": [
    "# Horizon 30\n",
    "df_test30 = df_test[:30]\n",
    "\n",
    "# mse\n",
    "mse30 = mean_squared_error(df_test30['std_dev'], df_test30['predictions'])\n",
    "print('MSE_30', mse30)\n",
    "\n",
    "# mae \n",
    "mae30 = mean_absolute_error(df_test30['std_dev'], df_test30['predictions'])\n",
    "print('MAE_30', mae30)\n",
    "\n",
    "# median absolute error\n",
    "squared_errors30 = (df_test30['std_dev'] - df_test30['predictions'])**2\n",
    "median_squared_errors30 = np.median(squared_errors30)\n",
    "print('MedSE_30', median_squared_errors30)"
   ]
  },
  {
   "cell_type": "code",
   "execution_count": 17,
   "id": "27d18a80-3b29-47be-a30d-f51384e23269",
   "metadata": {},
   "outputs": [
    {
     "name": "stdout",
     "output_type": "stream",
     "text": [
      "MSE_252 3.592355054917367\n",
      "MAE_252 1.3118811051874375\n",
      "MedSE_252 1.0416095237749285\n"
     ]
    }
   ],
   "source": [
    "# Horizon 252\n",
    "df_test252 = df_test[:252]\n",
    "\n",
    "# mse\n",
    "mse252 = mean_squared_error(df_test252['std_dev'], df_test252['predictions'])\n",
    "print('MSE_252', mse252)\n",
    "\n",
    "# mae \n",
    "mae252 = mean_absolute_error(df_test252['std_dev'], df_test252['predictions'])\n",
    "print('MAE_252', mae252)\n",
    "\n",
    "# median absolute error\n",
    "squared_errors252 = (df_test252['std_dev'] - df_test252['predictions'])**2\n",
    "median_squared_errors252 = np.median(squared_errors252)\n",
    "print('MedSE_252', median_squared_errors252)"
   ]
  },
  {
   "cell_type": "code",
   "execution_count": 18,
   "id": "d32ed3f1-a75d-4ed4-bbbb-124606dc835f",
   "metadata": {},
   "outputs": [
    {
     "name": "stdout",
     "output_type": "stream",
     "text": [
      "MSE_2021 3.6396357636533105\n",
      "MAE_2021 1.3117997007998583\n",
      "MedSE_2021 1.0252453713350755\n"
     ]
    }
   ],
   "source": [
    "# Horizon 2021\n",
    "start_date2021 = '2021-01-22'\n",
    "end_date2021 = '2021-12-31'\n",
    "\n",
    "df_test2021 = df_test[(df_test['Date'] >= start_date2021) & (df_test['Date'] <= end_date2021)]\n",
    "\n",
    "# mse\n",
    "mse2021 = mean_squared_error(df_test2021['std_dev'], df_test2021['predictions'])\n",
    "print('MSE_2021', mse2021)\n",
    "\n",
    "# mae \n",
    "mae2021 = mean_absolute_error(df_test2021['std_dev'], df_test2021['predictions'])\n",
    "print('MAE_2021', mae2021)\n",
    "\n",
    "# median absolute error\n",
    "squared_errors2021 = (df_test2021['std_dev'] - df_test2021['predictions'])**2\n",
    "median_squared_errors2021 = np.median(squared_errors2021)\n",
    "print('MedSE_2021', median_squared_errors2021)"
   ]
  },
  {
   "cell_type": "code",
   "execution_count": 19,
   "id": "3d00c067-077e-4713-9a01-9030cb6d0e78",
   "metadata": {},
   "outputs": [
    {
     "name": "stdout",
     "output_type": "stream",
     "text": [
      "MSE_2022 4.360743548812006\n",
      "MAE_2022 1.4488446420888115\n",
      "MedSE_2022 1.27850256335482\n"
     ]
    }
   ],
   "source": [
    "# Horizon 2022\n",
    "start_date2022 = '2022-01-01'\n",
    "end_date2022 = '2022-12-31'\n",
    "\n",
    "df_test2022 = df_test[(df_test['Date'] >= start_date2022) & (df_test['Date'] <= end_date2022)]\n",
    "\n",
    "# mse\n",
    "mse2022 = mean_squared_error(df_test2022['std_dev'], df_test2022['predictions'])\n",
    "print('MSE_2022', mse2022)\n",
    "\n",
    "# mae \n",
    "mae2022 = mean_absolute_error(df_test2022['std_dev'], df_test2022['predictions'])\n",
    "print('MAE_2022', mae2022)\n",
    "\n",
    "# median absolute error\n",
    "squared_errors2022 = (df_test2022['std_dev'] - df_test2022['predictions'])**2\n",
    "median_squared_errors2022 = np.median(squared_errors2022)\n",
    "print('MedSE_2022', median_squared_errors2022)"
   ]
  },
  {
   "cell_type": "code",
   "execution_count": 20,
   "id": "f250ae02-4a71-43ff-90bf-a64b397eb4e8",
   "metadata": {},
   "outputs": [
    {
     "name": "stdout",
     "output_type": "stream",
     "text": [
      "MSE_2023 1.4011723850069193\n",
      "MAE_2023 0.9744897167322427\n",
      "MedSE_2023 0.7508880796935476\n"
     ]
    }
   ],
   "source": [
    "# Horizon 2023\n",
    "start_date2023 = '2023-01-01'\n",
    "end_date2023 = '2023-12-31'\n",
    "\n",
    "df_test2023 = df_test[(df_test['Date'] >= start_date2023) & (df_test['Date'] <= end_date2023)]\n",
    "\n",
    "# mse\n",
    "mse2023 = mean_squared_error(df_test2023['std_dev'], df_test2023['predictions'])\n",
    "print('MSE_2023', mse2023)\n",
    "\n",
    "# mae \n",
    "mae2023 = mean_absolute_error(df_test2023['std_dev'], df_test2023['predictions'])\n",
    "print('MAE_2023', mae2023)\n",
    "\n",
    "# median absolute error\n",
    "squared_errors2023 = (df_test2023['std_dev'] - df_test2023['predictions'])**2\n",
    "median_squared_errors2023 = np.median(squared_errors2023)\n",
    "print('MedSE_2023', median_squared_errors2023)"
   ]
  },
  {
   "cell_type": "code",
   "execution_count": 21,
   "id": "7d9e445d-c527-4d42-8bf7-623e875d359a",
   "metadata": {},
   "outputs": [
    {
     "name": "stdout",
     "output_type": "stream",
     "text": [
      "MSE_2024 3.061431360615653\n",
      "MAE_2024 1.4099659374249236\n",
      "MedSE_2024 1.3368006302861297\n"
     ]
    }
   ],
   "source": [
    "# Horizon 2024\n",
    "start_date2024 = '2024-01-01'\n",
    "\n",
    "df_test2024 = df_test[(df_test['Date'] >= start_date2024)]\n",
    "\n",
    "# mse\n",
    "mse2024 = mean_squared_error(df_test2024['std_dev'], df_test2024['predictions'])\n",
    "print('MSE_2024', mse2024)\n",
    "\n",
    "# mae \n",
    "mae2024 = mean_absolute_error(df_test2024['std_dev'], df_test2024['predictions'])\n",
    "print('MAE_2024', mae2024)\n",
    "\n",
    "# median absolute error\n",
    "squared_errors2024 = (df_test2024['std_dev'] - df_test2024['predictions'])**2\n",
    "median_squared_errors2024 = np.median(squared_errors2024)\n",
    "print('MedSE_2024', median_squared_errors2024)"
   ]
  },
  {
   "cell_type": "markdown",
   "id": "f3607437-9282-4165-9511-07420b825f59",
   "metadata": {},
   "source": [
    "# summary of model evaluation"
   ]
  },
  {
   "cell_type": "code",
   "execution_count": 22,
   "id": "24bcc124-dbe3-446b-bdaa-a7ebc22b7039",
   "metadata": {},
   "outputs": [
    {
     "name": "stdout",
     "output_type": "stream",
     "text": [
      "R-squared (R^2): 0.1809212645747854\n",
      "MSE_1: 0.09219147175478337\n",
      "MSE_5: 0.755125909211957\n",
      "MSE_10: 3.216282183311468\n",
      "MSE_15: 2.4505074409156418\n",
      "MSE_20: 2.242059313246849\n",
      "MSE_25: 2.0319499764912714\n",
      "MSE_30: 1.952655031019549\n",
      "MSE_252: 3.592355054917367\n",
      "MSE_2021: 3.6396357636533105\n",
      "MSE_2022: 4.360743548812006\n",
      "MSE_2023: 1.4011723850069193\n",
      "MSE_2024: 3.061431360615653\n"
     ]
    }
   ],
   "source": [
    "# MSE all horizons + R^2\n",
    "print(\"R-squared (R^2):\", r_squared)\n",
    "print(\"MSE_1:\", mse1)\n",
    "print(\"MSE_5:\", mse5)\n",
    "print(\"MSE_10:\", mse10)\n",
    "print(\"MSE_15:\", mse15)\n",
    "print(\"MSE_20:\", mse20)\n",
    "print(\"MSE_25:\", mse25)\n",
    "print(\"MSE_30:\", mse30)\n",
    "print(\"MSE_252:\", mse252)\n",
    "print(\"MSE_2021:\", mse2021)\n",
    "print(\"MSE_2022:\", mse2022)\n",
    "print(\"MSE_2023:\", mse2023)\n",
    "print(\"MSE_2024:\", mse2024)"
   ]
  },
  {
   "cell_type": "code",
   "execution_count": 23,
   "id": "82493096-24ce-4141-b3f3-7bb27b5439ea",
   "metadata": {},
   "outputs": [
    {
     "name": "stdout",
     "output_type": "stream",
     "text": [
      "MAE_1: 0.3036304855491019\n",
      "MAE_5: 0.5518955721245085\n",
      "MAE_10: 1.3619931208409313\n",
      "MAE_15: 1.2018621188407335\n",
      "MAE_20: 1.1687053481280985\n",
      "MAE_25: 1.1113849005673233\n",
      "MAE_30: 1.083835044126494\n",
      "MAE_252: 1.3118811051874375\n",
      "MAE_2021: 1.3117997007998583\n",
      "MAE_2022: 1.4488446420888115\n",
      "MAE_2023: 0.9744897167322427\n",
      "MAE_2024: 1.4099659374249236\n"
     ]
    }
   ],
   "source": [
    "# MAE all horizons\n",
    "print(\"MAE_1:\", mae1)\n",
    "print(\"MAE_5:\", mae5)\n",
    "print(\"MAE_10:\", mae10)\n",
    "print(\"MAE_15:\", mae15)\n",
    "print(\"MAE_20:\", mae20)\n",
    "print(\"MAE_25:\", mae25)\n",
    "print(\"MAE_30:\", mae30)\n",
    "print(\"MAE_252:\", mae252)\n",
    "print(\"MAE_2021:\", mae2021)\n",
    "print(\"MAE_2022:\", mae2022)\n",
    "print(\"MAE_2023:\", mae2023)\n",
    "print(\"MAE_2024:\", mae2024)"
   ]
  },
  {
   "cell_type": "code",
   "execution_count": 24,
   "id": "7c325e76-3520-4873-a69f-ce1f398b10d9",
   "metadata": {},
   "outputs": [
    {
     "name": "stdout",
     "output_type": "stream",
     "text": [
      "MedSE_1: 0.09219147175478337\n",
      "MedSE_5: 0.07631910771567264\n",
      "MedSE_10: 1.4179260225448465\n",
      "MedSE_15: 0.8512094880677558\n",
      "MedSE_20: 0.7445034163248887\n",
      "MedSE_25: 0.7457807498473926\n",
      "MedSE_30: 0.6917890472147071\n",
      "MedSE_252: 1.0416095237749285\n",
      "MedSE_2021: 1.0252453713350755\n",
      "MedSE_2022: 1.27850256335482\n",
      "MedSE_2023: 0.7508880796935476\n",
      "MedSE_2024: 1.3368006302861297\n"
     ]
    }
   ],
   "source": [
    "# Median squared error\n",
    "print(\"MedSE_1:\", median_squared_errors1)\n",
    "print(\"MedSE_5:\", median_squared_errors5)\n",
    "print(\"MedSE_10:\", median_squared_errors10)\n",
    "print(\"MedSE_15:\", median_squared_errors15)\n",
    "print(\"MedSE_20:\", median_squared_errors20)\n",
    "print(\"MedSE_25:\", median_squared_errors25)\n",
    "print(\"MedSE_30:\", median_squared_errors30)\n",
    "print(\"MedSE_252:\", median_squared_errors252)\n",
    "print(\"MedSE_2021:\", median_squared_errors2021)\n",
    "print(\"MedSE_2022:\", median_squared_errors2022)\n",
    "print(\"MedSE_2023:\", median_squared_errors2023)\n",
    "print(\"MedSE_2024:\", median_squared_errors2024)"
   ]
  },
  {
   "cell_type": "code",
   "execution_count": null,
   "id": "3da3565a-5775-4ae9-b614-cbe4e80d4802",
   "metadata": {},
   "outputs": [],
   "source": []
  }
 ],
 "metadata": {
  "kernelspec": {
   "display_name": "Python 3 (ipykernel)",
   "language": "python",
   "name": "python3"
  },
  "language_info": {
   "codemirror_mode": {
    "name": "ipython",
    "version": 3
   },
   "file_extension": ".py",
   "mimetype": "text/x-python",
   "name": "python",
   "nbconvert_exporter": "python",
   "pygments_lexer": "ipython3",
   "version": "3.11.7"
  }
 },
 "nbformat": 4,
 "nbformat_minor": 5
}
