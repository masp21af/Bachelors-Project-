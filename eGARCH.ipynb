{
 "cells": [
  {
   "cell_type": "code",
   "execution_count": 1,
   "id": "fc32d23f-0a44-4ae5-ae05-bd753401d9e1",
   "metadata": {},
   "outputs": [],
   "source": [
    "#Importing libraries and setting seed\n",
    "seed = 45871\n",
    "import pandas as pd\n",
    "import numpy as np\n",
    "import math\n",
    "import statistics\n",
    "import scipy.stats as stats\n",
    "import matplotlib.pyplot as plt\n",
    "import matplotlib.dates as mdates\n",
    "from pandas.plotting import register_matplotlib_converters\n",
    "from statsmodels.graphics.tsaplots import plot_acf, plot_pacf\n",
    "import statsmodels.api as sm\n",
    "from statsmodels.tsa.stattools import adfuller\n",
    "from statsmodels.stats.diagnostic import acorr_ljungbox\n",
    "from arch import arch_model"
   ]
  },
  {
   "cell_type": "markdown",
   "id": "48f6c1ff-8a3c-4bf1-9525-bd94bc0b9872",
   "metadata": {},
   "source": [
    "# Load data + compute new columns"
   ]
  },
  {
   "cell_type": "code",
   "execution_count": 2,
   "id": "d4672c3e-b8ba-4d3c-a3c5-d130a1125b69",
   "metadata": {},
   "outputs": [
    {
     "name": "stdout",
     "output_type": "stream",
     "text": [
      "        Date  Last Price  Log_Returns   std_dev\n",
      "0 2005-04-22       16.85          NaN       NaN\n",
      "1 2005-04-25       17.45     3.498899       NaN\n",
      "2 2005-04-26       17.15    -1.734148  3.700323\n",
      "3 2005-04-27       16.35    -4.777028  2.151641\n",
      "4 2005-04-28       15.95    -2.476907  1.626431\n",
      "           Date  Last Price  Log_Returns   std_dev\n",
      "4873 2024-03-25       63.74     5.465136  0.982766\n",
      "4874 2024-03-26       61.06    -4.295532  6.901835\n",
      "4875 2024-03-27       61.21     0.245359  3.210895\n",
      "4876 2024-03-28       60.58    -1.034577  0.905051\n",
      "4877 2024-04-01       60.58     0.000000  0.731556\n"
     ]
    }
   ],
   "source": [
    "#Loading the data file\n",
    "file_path = 'test data_ascending.xlsx'\n",
    "df = pd.read_excel(file_path)\n",
    "\n",
    "# Calculating log returns\n",
    "df['Log_Returns'] = (np.log(df['Last Price']) - np.log(df['Last Price'].shift(1)))*100\n",
    "\n",
    "# Calculate volatility on log returns \n",
    "window_size = 2  \n",
    "df['std_dev'] = df['Log_Returns'].rolling(window=window_size).std()\n",
    "\n",
    "\n",
    "# Display data frame\n",
    "print(df.head())\n",
    "print(df.tail())"
   ]
  },
  {
   "cell_type": "markdown",
   "id": "d276e2a0-110b-4dec-9003-05db388367ff",
   "metadata": {},
   "source": [
    "# Split data frame"
   ]
  },
  {
   "cell_type": "code",
   "execution_count": 3,
   "id": "70d543ce-7578-4083-b958-b255108846fe",
   "metadata": {},
   "outputs": [
    {
     "name": "stdout",
     "output_type": "stream",
     "text": [
      "          Date  Last Price  Log_Returns   std_dev\n",
      "755 2008-04-03       23.47     0.213265  2.620107\n",
      "756 2008-04-04       23.31    -0.684056  0.634502\n",
      "757 2008-04-07       23.82     2.164311  2.014099\n",
      "758 2008-04-08       23.51    -1.309970  2.456688\n",
      "759 2008-04-09       23.69     0.762716  1.465610\n",
      "           Date  Last Price  Log_Returns   std_dev\n",
      "4873 2024-03-25       63.74     5.465136  0.982766\n",
      "4874 2024-03-26       61.06    -4.295532  6.901835\n",
      "4875 2024-03-27       61.21     0.245359  3.210895\n",
      "4876 2024-03-28       60.58    -1.034577  0.905051\n",
      "4877 2024-04-01       60.58     0.000000  0.731556\n"
     ]
    }
   ],
   "source": [
    "start_date = '2008-04-03'\n",
    "df = df[df['Date'] >= start_date]\n",
    "\n",
    "print(df.head())\n",
    "print(df.tail())"
   ]
  },
  {
   "cell_type": "code",
   "execution_count": 4,
   "id": "86cfe695-9644-4373-aaaa-100d0b270e4b",
   "metadata": {},
   "outputs": [],
   "source": [
    "# Split data frame into training data and test data\n",
    "test_size = int(len(df) * 0.2)  \n",
    "df_train = df[:-test_size]\n",
    "df_test = df[-test_size:]\n",
    "\n",
    "# Exclude NaN values from the date frames \n",
    "df_train = df_train.dropna()\n",
    "df_test = df_test.dropna()"
   ]
  },
  {
   "cell_type": "markdown",
   "id": "5d1618ed-5c31-4d7d-b3ef-34d452e27df1",
   "metadata": {},
   "source": [
    "# Train model + predict observations"
   ]
  },
  {
   "cell_type": "code",
   "execution_count": 5,
   "id": "79b1a798-47b4-4b24-bc69-167ccb9bf4e5",
   "metadata": {},
   "outputs": [
    {
     "name": "stdout",
     "output_type": "stream",
     "text": [
      "Iteration:      1,   Func. Count:      7,   Neg. LLF: 909027568115.8491\n",
      "Iteration:      2,   Func. Count:     17,   Neg. LLF: 262585311603.88757\n",
      "Iteration:      3,   Func. Count:     27,   Neg. LLF: 2179993471898.189\n",
      "Iteration:      4,   Func. Count:     37,   Neg. LLF: 717885783393.13\n",
      "Iteration:      5,   Func. Count:     46,   Neg. LLF: 13263.892395428618\n",
      "Iteration:      6,   Func. Count:     55,   Neg. LLF: 7919.384484372222\n",
      "Iteration:      7,   Func. Count:     62,   Neg. LLF: 7918.829905947704\n",
      "Iteration:      8,   Func. Count:     68,   Neg. LLF: 7918.828875688521\n",
      "Iteration:      9,   Func. Count:     74,   Neg. LLF: 7918.828833049669\n",
      "Iteration:     10,   Func. Count:     79,   Neg. LLF: 7918.828833044639\n",
      "Optimization terminated successfully    (Exit mode 0)\n",
      "            Current function value: 7918.828833049669\n",
      "            Iterations: 10\n",
      "            Function evaluations: 79\n",
      "            Gradient evaluations: 10\n"
     ]
    },
    {
     "data": {
      "text/html": [
       "<table class=\"simpletable\">\n",
       "<caption>Constant Mean - EGARCH Model Results</caption>\n",
       "<tr>\n",
       "  <th>Dep. Variable:</th>     <td>Log_Returns</td>    <th>  R-squared:         </th>  <td>   0.000</td> \n",
       "</tr>\n",
       "<tr>\n",
       "  <th>Mean Model:</th>       <td>Constant Mean</td>   <th>  Adj. R-squared:    </th>  <td>   0.000</td> \n",
       "</tr>\n",
       "<tr>\n",
       "  <th>Vol Model:</th>           <td>EGARCH</td>       <th>  Log-Likelihood:    </th> <td>  -7918.83</td>\n",
       "</tr>\n",
       "<tr>\n",
       "  <th>Distribution:</th>        <td>Normal</td>       <th>  AIC:               </th> <td>   15847.7</td>\n",
       "</tr>\n",
       "<tr>\n",
       "  <th>Method:</th>        <td>Maximum Likelihood</td> <th>  BIC:               </th> <td>   15878.2</td>\n",
       "</tr>\n",
       "<tr>\n",
       "  <th></th>                        <td></td>          <th>  No. Observations:  </th>    <td>3299</td>   \n",
       "</tr>\n",
       "<tr>\n",
       "  <th>Date:</th>           <td>Fri, May 17 2024</td>  <th>  Df Residuals:      </th>    <td>3298</td>   \n",
       "</tr>\n",
       "<tr>\n",
       "  <th>Time:</th>               <td>23:08:56</td>      <th>  Df Model:          </th>      <td>1</td>    \n",
       "</tr>\n",
       "</table>\n",
       "<table class=\"simpletable\">\n",
       "<caption>Mean Model</caption>\n",
       "<tr>\n",
       "   <td></td>     <th>coef</th>     <th>std err</th>      <th>t</th>       <th>P>|t|</th>     <th>95.0% Conf. Int.</th>  \n",
       "</tr>\n",
       "<tr>\n",
       "  <th>mu</th> <td>    0.0783</td> <td>4.007e-02</td> <td>    1.953</td> <td>5.076e-02</td> <td>[-2.593e-04,  0.157]</td>\n",
       "</tr>\n",
       "</table>\n",
       "<table class=\"simpletable\">\n",
       "<caption>Volatility Model</caption>\n",
       "<tr>\n",
       "      <td></td>        <th>coef</th>     <th>std err</th>      <th>t</th>       <th>P>|t|</th>      <th>95.0% Conf. Int.</th>    \n",
       "</tr>\n",
       "<tr>\n",
       "  <th>omega</th>    <td>    0.0566</td> <td>1.920e-02</td> <td>    2.950</td> <td>3.174e-03</td>  <td>[1.901e-02,9.427e-02]</td> \n",
       "</tr>\n",
       "<tr>\n",
       "  <th>alpha[1]</th> <td>    0.2370</td> <td>3.561e-02</td> <td>    6.657</td> <td>2.803e-11</td>    <td>[  0.167,  0.307]</td>   \n",
       "</tr>\n",
       "<tr>\n",
       "  <th>gamma[1]</th> <td>   -0.0372</td> <td>1.637e-02</td> <td>   -2.270</td> <td>2.323e-02</td> <td>[-6.925e-02,-5.070e-03]</td>\n",
       "</tr>\n",
       "<tr>\n",
       "  <th>beta[1]</th>  <td>    0.9771</td> <td>9.477e-03</td> <td>  103.101</td>   <td>0.000</td>      <td>[  0.959,  0.996]</td>   \n",
       "</tr>\n",
       "</table><br/><br/>Covariance estimator: robust"
      ],
      "text/latex": [
       "\\begin{center}\n",
       "\\begin{tabular}{lclc}\n",
       "\\toprule\n",
       "\\textbf{Dep. Variable:} &    Log\\_Returns    & \\textbf{  R-squared:         } &     0.000   \\\\\n",
       "\\textbf{Mean Model:}    &   Constant Mean    & \\textbf{  Adj. R-squared:    } &     0.000   \\\\\n",
       "\\textbf{Vol Model:}     &       EGARCH       & \\textbf{  Log-Likelihood:    } &   -7918.83  \\\\\n",
       "\\textbf{Distribution:}  &       Normal       & \\textbf{  AIC:               } &    15847.7  \\\\\n",
       "\\textbf{Method:}        & Maximum Likelihood & \\textbf{  BIC:               } &    15878.2  \\\\\n",
       "\\textbf{}               &                    & \\textbf{  No. Observations:  } &    3299     \\\\\n",
       "\\textbf{Date:}          &  Fri, May 17 2024  & \\textbf{  Df Residuals:      } &    3298     \\\\\n",
       "\\textbf{Time:}          &      23:08:56      & \\textbf{  Df Model:          } &     1       \\\\\n",
       "\\bottomrule\n",
       "\\end{tabular}\n",
       "\\begin{tabular}{lccccc}\n",
       "            & \\textbf{coef} & \\textbf{std err} & \\textbf{t} & \\textbf{P$> |$t$|$} & \\textbf{95.0\\% Conf. Int.}  \\\\\n",
       "\\midrule\n",
       "\\textbf{mu} &       0.0783  &    4.007e-02     &     1.953  &      5.076e-02       &    [-2.593e-04,  0.157]     \\\\\n",
       "                  & \\textbf{coef} & \\textbf{std err} & \\textbf{t} & \\textbf{P$> |$t$|$} & \\textbf{95.0\\% Conf. Int.}  \\\\\n",
       "\\midrule\n",
       "\\textbf{omega}    &       0.0566  &    1.920e-02     &     2.950  &      3.174e-03       &   [1.901e-02,9.427e-02]     \\\\\n",
       "\\textbf{alpha[1]} &       0.2370  &    3.561e-02     &     6.657  &      2.803e-11       &     [  0.167,  0.307]       \\\\\n",
       "\\textbf{gamma[1]} &      -0.0372  &    1.637e-02     &    -2.270  &      2.323e-02       &  [-6.925e-02,-5.070e-03]    \\\\\n",
       "\\textbf{beta[1]}  &       0.9771  &    9.477e-03     &   103.101  &        0.000         &     [  0.959,  0.996]       \\\\\n",
       "\\bottomrule\n",
       "\\end{tabular}\n",
       "%\\caption{Constant Mean - EGARCH Model Results}\n",
       "\\end{center}\n",
       "\n",
       "Covariance estimator: robust"
      ],
      "text/plain": [
       "<class 'statsmodels.iolib.summary.Summary'>\n",
       "\"\"\"\n",
       "                     Constant Mean - EGARCH Model Results                     \n",
       "==============================================================================\n",
       "Dep. Variable:            Log_Returns   R-squared:                       0.000\n",
       "Mean Model:             Constant Mean   Adj. R-squared:                  0.000\n",
       "Vol Model:                     EGARCH   Log-Likelihood:               -7918.83\n",
       "Distribution:                  Normal   AIC:                           15847.7\n",
       "Method:            Maximum Likelihood   BIC:                           15878.2\n",
       "                                        No. Observations:                 3299\n",
       "Date:                Fri, May 17 2024   Df Residuals:                     3298\n",
       "Time:                        23:08:56   Df Model:                            1\n",
       "                                 Mean Model                                \n",
       "===========================================================================\n",
       "                 coef    std err          t      P>|t|     95.0% Conf. Int.\n",
       "---------------------------------------------------------------------------\n",
       "mu             0.0783  4.007e-02      1.953  5.076e-02 [-2.593e-04,  0.157]\n",
       "                               Volatility Model                               \n",
       "==============================================================================\n",
       "                 coef    std err          t      P>|t|        95.0% Conf. Int.\n",
       "------------------------------------------------------------------------------\n",
       "omega          0.0566  1.920e-02      2.950  3.174e-03   [1.901e-02,9.427e-02]\n",
       "alpha[1]       0.2370  3.561e-02      6.657  2.803e-11       [  0.167,  0.307]\n",
       "gamma[1]      -0.0372  1.637e-02     -2.270  2.323e-02 [-6.925e-02,-5.070e-03]\n",
       "beta[1]        0.9771  9.477e-03    103.101      0.000       [  0.959,  0.996]\n",
       "==============================================================================\n",
       "\n",
       "Covariance estimator: robust\n",
       "\"\"\""
      ]
     },
     "execution_count": 5,
     "metadata": {},
     "output_type": "execute_result"
    }
   ],
   "source": [
    "train, test = df.Log_Returns[:-test_size], df.Log_Returns[-test_size:]\n",
    "model = arch_model(train, p=1, o=1, q=1, vol='egarch')\n",
    "model_fit = model.fit()\n",
    "model_fit.summary()"
   ]
  },
  {
   "cell_type": "code",
   "execution_count": 6,
   "id": "4c6b2884-f613-43db-9dfa-6c2a826715d7",
   "metadata": {},
   "outputs": [],
   "source": [
    "predictions = []\n",
    "for i in range(test_size):\n",
    "    train = df.Log_Returns[:-(test_size-i)]\n",
    "    model = arch_model(train, p=1, o=1, q=1, vol='egarch')\n",
    "    model_fit = model.fit(disp='off')\n",
    "    pred = model_fit.forecast(horizon=1)\n",
    "    predictions.append(np.sqrt(pred.variance.values[-1,:][0]))\n",
    "\n",
    "predictions = pd.Series(predictions, index=df_test.index)\n",
    "df_test['predictions'] = predictions"
   ]
  },
  {
   "cell_type": "markdown",
   "id": "88e24f6d-56fc-456e-b425-512e665d7a02",
   "metadata": {},
   "source": [
    "# Plot forecast results "
   ]
  },
  {
   "cell_type": "code",
   "execution_count": 7,
   "id": "186af099-4c13-4d1e-a851-6fc4bc7ee34b",
   "metadata": {},
   "outputs": [
    {
     "data": {
      "image/png": "[encoded data removed]",
      "text/plain": [
       "<Figure size 1400x600 with 1 Axes>"
      ]
     },
     "metadata": {},
     "output_type": "display_data"
    }
   ],
   "source": [
    "fig, ax = plt.subplots(figsize=(14, 6))\n",
    "\n",
    "# Plot 'std_dev' and 'predictions'\n",
    "ax.plot(df_test['Date'], df_test['std_dev'], label='True Volatility', linewidth=2)\n",
    "ax.plot(df_test['Date'], df_test['predictions'], label='Forecasted Volatility', linewidth=2)\n",
    "\n",
    "# Set the x-axis to show each year\n",
    "ax.xaxis.set_major_locator(mdates.YearLocator())\n",
    "ax.xaxis.set_major_formatter(mdates.DateFormatter('%Y'))\n",
    "\n",
    "# More layout \n",
    "plt.title('eGARCH')\n",
    "plt.xlabel('Year')\n",
    "plt.ylabel('Volatility')\n",
    "plt.legend()\n",
    "plt.show()\n",
    "\n",
    "plt.rcParams.update({'font.size': 20})"
   ]
  },
  {
   "cell_type": "markdown",
   "id": "ae99f9e6-a614-4851-a5a9-040d40ea5cb7",
   "metadata": {},
   "source": [
    "# Model evaluation "
   ]
  },
  {
   "cell_type": "code",
   "execution_count": 8,
   "id": "9b2a5feb-d6ab-4284-8569-f463c25b3088",
   "metadata": {},
   "outputs": [],
   "source": [
    "# import sklearn.metrics\n",
    "from sklearn.metrics import mean_squared_error, r2_score, mean_absolute_error"
   ]
  },
  {
   "cell_type": "code",
   "execution_count": 9,
   "id": "15a43034-486d-4436-84e7-27889a95876e",
   "metadata": {},
   "outputs": [
    {
     "name": "stdout",
     "output_type": "stream",
     "text": [
      "R-squared (R^2): 0.04458916565765958\n"
     ]
    }
   ],
   "source": [
    "# oos r^2 for entire test_size\n",
    "r_squared = r2_score(df_test['std_dev'], predictions)\n",
    "print(\"R-squared (R^2):\", r_squared)"
   ]
  },
  {
   "cell_type": "code",
   "execution_count": 10,
   "id": "f173e83e-a930-4511-83f5-bb2ab2469438",
   "metadata": {},
   "outputs": [
    {
     "name": "stdout",
     "output_type": "stream",
     "text": [
      "MSE_1 0.39182769054049155\n",
      "MAE_1 0.625961412980458\n",
      "MedSE_1 0.39182769054049155\n"
     ]
    }
   ],
   "source": [
    "# Horizon 1\n",
    "df_test1 = df_test[:1]\n",
    "\n",
    "# mse\n",
    "mse1 = mean_squared_error(df_test1['std_dev'], df_test1['predictions'])\n",
    "print('MSE_1', mse1)\n",
    "\n",
    "# mae \n",
    "mae1 = mean_absolute_error(df_test1['std_dev'], df_test1['predictions'])\n",
    "print('MAE_1', mae1)\n",
    "\n",
    "# median absolute error\n",
    "squared_errors1 = (df_test1['std_dev']-df_test1['predictions'])**2\n",
    "median_squared_errors1 = np.median(squared_errors1)\n",
    "print('MedSE_1', median_squared_errors1)"
   ]
  },
  {
   "cell_type": "code",
   "execution_count": 11,
   "id": "baf5fc85-4e3a-4cfd-b1b0-6d9ac3c55c47",
   "metadata": {},
   "outputs": [
    {
     "name": "stdout",
     "output_type": "stream",
     "text": [
      "MSE_5 1.1785569240367137\n",
      "MAE_5 0.8134239197963193\n",
      "MedSE_5 0.39182769054049155\n"
     ]
    }
   ],
   "source": [
    "# Horizon 5\n",
    "df_test5 = df_test[:5]\n",
    "\n",
    "# mse\n",
    "mse5 = mean_squared_error(df_test5['std_dev'], df_test5['predictions'])\n",
    "print('MSE_5', mse5)\n",
    "\n",
    "# mae \n",
    "mae5 = mean_absolute_error(df_test5['std_dev'], df_test5['predictions'])\n",
    "print('MAE_5', mae5)\n",
    "\n",
    "# median absolute error\n",
    "squared_errors5 = (df_test5['std_dev'] - df_test5['predictions'])**2\n",
    "median_squared_errors5 = np.median(squared_errors5)\n",
    "print('MedSE_5', median_squared_errors5)"
   ]
  },
  {
   "cell_type": "code",
   "execution_count": 12,
   "id": "66528897-1579-4b21-bcab-0f5d3f99ce7b",
   "metadata": {},
   "outputs": [
    {
     "name": "stdout",
     "output_type": "stream",
     "text": [
      "MSE_10 2.1499233653086116\n",
      "MAE_10 1.2256685125374813\n",
      "MedSE_10 0.9989717111574062\n"
     ]
    }
   ],
   "source": [
    "# Horizon 10\n",
    "df_test10 = df_test[:10]\n",
    "\n",
    "# mse\n",
    "mse10 = mean_squared_error(df_test10['std_dev'], df_test10['predictions'])\n",
    "print('MSE_10', mse10)\n",
    "\n",
    "# mae \n",
    "mae10 = mean_absolute_error(df_test10['std_dev'], df_test10['predictions'])\n",
    "print('MAE_10', mae10)\n",
    "\n",
    "# median absolute error\n",
    "squared_errors10 = (df_test10['std_dev'] - df_test10['predictions'])**2\n",
    "median_squared_errors10 = np.median(squared_errors10)\n",
    "print('MedSE_10', median_squared_errors10)"
   ]
  },
  {
   "cell_type": "code",
   "execution_count": 13,
   "id": "81fa236c-d3a1-42b5-b31b-773269e2125e",
   "metadata": {},
   "outputs": [
    {
     "name": "stdout",
     "output_type": "stream",
     "text": [
      "MSE_15 1.9646642990746082\n",
      "MAE_15 1.155630482266932\n",
      "MedSE_15 1.1249458714093448\n"
     ]
    }
   ],
   "source": [
    "# Horizon 15\n",
    "df_test15 = df_test[:15]\n",
    "\n",
    "# mse\n",
    "mse15 = mean_squared_error(df_test15['std_dev'], df_test15['predictions'])\n",
    "print('MSE_15', mse15)\n",
    "\n",
    "# mae \n",
    "mae15 = mean_absolute_error(df_test15['std_dev'], df_test15['predictions'])\n",
    "print('MAE_15', mae15)\n",
    "\n",
    "# median absolute error\n",
    "squared_errors15 = (df_test15['std_dev'] - df_test15['predictions'])**2\n",
    "median_squared_errors15 = np.median(squared_errors15)\n",
    "print('MedSE_15', median_squared_errors15)"
   ]
  },
  {
   "cell_type": "code",
   "execution_count": 14,
   "id": "13d02668-dc6d-4a6d-b5a9-645728a036ad",
   "metadata": {},
   "outputs": [
    {
     "name": "stdout",
     "output_type": "stream",
     "text": [
      "MSE_20 2.155640982987794\n",
      "MAE_20 1.2063717669274099\n",
      "MedSE_20 1.0071973395313976\n"
     ]
    }
   ],
   "source": [
    "# Horizon 20\n",
    "df_test20 = df_test[:20]\n",
    "\n",
    "# mse\n",
    "mse20 = mean_squared_error(df_test20['std_dev'], df_test20['predictions'])\n",
    "print('MSE_20', mse20)\n",
    "\n",
    "# mae \n",
    "mae20 = mean_absolute_error(df_test20['std_dev'], df_test20['predictions'])\n",
    "print('MAE_20', mae20)\n",
    "\n",
    "# median absolute error\n",
    "squared_errors20 = (df_test20['std_dev'] - df_test20['predictions'])**2\n",
    "median_squared_errors20 = np.median(squared_errors20)\n",
    "print('MedSE_20', median_squared_errors20)"
   ]
  },
  {
   "cell_type": "code",
   "execution_count": 15,
   "id": "6d285178-cba5-4a88-b635-df0f2ddf4e6b",
   "metadata": {},
   "outputs": [
    {
     "name": "stdout",
     "output_type": "stream",
     "text": [
      "MSE_25 2.135936471144065\n",
      "MAE_25 1.1662649783341055\n",
      "MedSE_25 0.8894488076534502\n"
     ]
    }
   ],
   "source": [
    "# Horizon 25\n",
    "df_test25 = df_test[:25]\n",
    "\n",
    "# mse\n",
    "mse25 = mean_squared_error(df_test25['std_dev'], df_test25['predictions'])\n",
    "print('MSE_25', mse25)\n",
    "\n",
    "# mae \n",
    "mae25 = mean_absolute_error(df_test25['std_dev'], df_test25['predictions'])\n",
    "print('MAE_25', mae25)\n",
    "\n",
    "# median absolute error\n",
    "squared_errors25 = (df_test25['std_dev'] - df_test25['predictions'])**2\n",
    "median_squared_errors25 = np.median(squared_errors25)\n",
    "print('MedSE_25', median_squared_errors25)"
   ]
  },
  {
   "cell_type": "code",
   "execution_count": 16,
   "id": "64783fca-4543-490c-9ee6-64b1646ee028",
   "metadata": {},
   "outputs": [
    {
     "name": "stdout",
     "output_type": "stream",
     "text": [
      "MSE_30 2.0729454657298385\n",
      "MAE_30 1.1426310894931362\n",
      "MedSE_30 1.0071973395313976\n"
     ]
    }
   ],
   "source": [
    "# Horizon 30\n",
    "df_test30 = df_test[:30]\n",
    "\n",
    "# mse\n",
    "mse30 = mean_squared_error(df_test30['std_dev'], df_test30['predictions'])\n",
    "print('MSE_30', mse30)\n",
    "\n",
    "# mae \n",
    "mae30 = mean_absolute_error(df_test30['std_dev'], df_test30['predictions'])\n",
    "print('MAE_30', mae30)\n",
    "\n",
    "# median absolute error\n",
    "squared_errors30 = (df_test30['std_dev'] - df_test30['predictions'])**2\n",
    "median_squared_errors30 = np.median(squared_errors30)\n",
    "print('MedSE_30', median_squared_errors30)"
   ]
  },
  {
   "cell_type": "code",
   "execution_count": 17,
   "id": "bcd0f6c0-e2f3-4fab-be7d-d53192a09c2f",
   "metadata": {},
   "outputs": [
    {
     "name": "stdout",
     "output_type": "stream",
     "text": [
      "MSE_252 4.00975145127821\n",
      "MAE_252 1.4924845975118943\n",
      "MedSE_252 1.5789656546752462\n"
     ]
    }
   ],
   "source": [
    "# Horizon 252\n",
    "df_test252 = df_test[:252]\n",
    "\n",
    "# mse\n",
    "mse252 = mean_squared_error(df_test252['std_dev'], df_test252['predictions'])\n",
    "print('MSE_252', mse252)\n",
    "\n",
    "# mae \n",
    "mae252 = mean_absolute_error(df_test252['std_dev'], df_test252['predictions'])\n",
    "print('MAE_252', mae252)\n",
    "\n",
    "# median absolute error\n",
    "squared_errors252 = (df_test252['std_dev'] - df_test252['predictions'])**2\n",
    "median_squared_errors252 = np.median(squared_errors252)\n",
    "print('MedSE_252', median_squared_errors252)"
   ]
  },
  {
   "cell_type": "code",
   "execution_count": 18,
   "id": "780542a5-5f30-4cfb-a0c7-f4f4a910a0cf",
   "metadata": {},
   "outputs": [
    {
     "name": "stdout",
     "output_type": "stream",
     "text": [
      "MSE_2021 4.055881424166835\n",
      "MAE_2021 1.4948085796165962\n",
      "MedSE_2021 1.552357553849097\n"
     ]
    }
   ],
   "source": [
    "# Horizon 2021\n",
    "start_date2021 = '2021-01-22'\n",
    "end_date2021 = '2021-12-31'\n",
    "\n",
    "df_test2021 = df_test[(df_test['Date'] >= start_date2021) & (df_test['Date'] <= end_date2021)]\n",
    "\n",
    "# mse\n",
    "mse2021 = mean_squared_error(df_test2021['std_dev'], df_test2021['predictions'])\n",
    "print('MSE_2021', mse2021)\n",
    "\n",
    "# mae \n",
    "mae2021 = mean_absolute_error(df_test2021['std_dev'], df_test2021['predictions'])\n",
    "print('MAE_2021', mae2021)\n",
    "\n",
    "# median absolute error\n",
    "squared_errors2021 = (df_test2021['std_dev'] - df_test2021['predictions'])**2\n",
    "median_squared_errors2021 = np.median(squared_errors2021)\n",
    "print('MedSE_2021', median_squared_errors2021)"
   ]
  },
  {
   "cell_type": "code",
   "execution_count": 19,
   "id": "0b8c6508-1f70-4ebb-a563-e0075b92da43",
   "metadata": {},
   "outputs": [
    {
     "name": "stdout",
     "output_type": "stream",
     "text": [
      "MSE_2022 4.801305311662617\n",
      "MAE_2022 1.6958809452889247\n",
      "MedSE_2022 2.474483317644011\n"
     ]
    }
   ],
   "source": [
    "# Horizon 2022\n",
    "start_date2022 = '2022-01-01'\n",
    "end_date2022 = '2022-12-31'\n",
    "\n",
    "df_test2022 = df_test[(df_test['Date'] >= start_date2022) & (df_test['Date'] <= end_date2022)]\n",
    "\n",
    "# mse\n",
    "mse2022 = mean_squared_error(df_test2022['std_dev'], df_test2022['predictions'])\n",
    "print('MSE_2022', mse2022)\n",
    "\n",
    "# mae \n",
    "mae2022 = mean_absolute_error(df_test2022['std_dev'], df_test2022['predictions'])\n",
    "print('MAE_2022', mae2022)\n",
    "\n",
    "# median absolute error\n",
    "squared_errors2022 = (df_test2022['std_dev'] - df_test2022['predictions'])**2\n",
    "median_squared_errors2022 = np.median(squared_errors2022)\n",
    "print('MedSE_2022', median_squared_errors2022)"
   ]
  },
  {
   "cell_type": "code",
   "execution_count": 20,
   "id": "c6fda879-297e-451a-b9e2-db435f4057b8",
   "metadata": {},
   "outputs": [
    {
     "name": "stdout",
     "output_type": "stream",
     "text": [
      "MSE_2023 1.7683179293494287\n",
      "MAE_2023 1.1269853293384156\n",
      "MedSE_2023 1.1366514503914154\n"
     ]
    }
   ],
   "source": [
    "# Horizon 2023\n",
    "start_date2023 = '2023-01-01'\n",
    "end_date2023 = '2023-12-31'\n",
    "\n",
    "df_test2023 = df_test[(df_test['Date'] >= start_date2023) & (df_test['Date'] <= end_date2023)]\n",
    "\n",
    "# mse\n",
    "mse2023 = mean_squared_error(df_test2023['std_dev'], df_test2023['predictions'])\n",
    "print('MSE_2023', mse2023)\n",
    "\n",
    "# mae \n",
    "mae2023 = mean_absolute_error(df_test2023['std_dev'], df_test2023['predictions'])\n",
    "print('MAE_2023', mae2023)\n",
    "\n",
    "# median absolute error\n",
    "squared_errors2023 = (df_test2023['std_dev'] - df_test2023['predictions'])**2\n",
    "median_squared_errors2023 = np.median(squared_errors2023)\n",
    "print('MedSE_2023', median_squared_errors2023)"
   ]
  },
  {
   "cell_type": "code",
   "execution_count": 21,
   "id": "aecfdbdb-7525-4fa0-a8d7-d6090d393309",
   "metadata": {},
   "outputs": [
    {
     "name": "stdout",
     "output_type": "stream",
     "text": [
      "MSE_2024 3.128844858402769\n",
      "MAE_2024 1.4742646544941673\n",
      "MedSE_2024 2.3414474046536533\n"
     ]
    }
   ],
   "source": [
    "# Horizon 2024\n",
    "start_date2024 = '2024-01-01'\n",
    "\n",
    "df_test2024 = df_test[(df_test['Date'] >= start_date2024)]\n",
    "\n",
    "# mse\n",
    "mse2024 = mean_squared_error(df_test2024['std_dev'], df_test2024['predictions'])\n",
    "print('MSE_2024', mse2024)\n",
    "\n",
    "# mae \n",
    "mae2024 = mean_absolute_error(df_test2024['std_dev'], df_test2024['predictions'])\n",
    "print('MAE_2024', mae2024)\n",
    "\n",
    "# median absolute error\n",
    "squared_errors2024 = (df_test2024['std_dev'] - df_test2024['predictions'])**2\n",
    "median_squared_errors2024 = np.median(squared_errors2024)\n",
    "print('MedSE_2024', median_squared_errors2024)"
   ]
  },
  {
   "cell_type": "markdown",
   "id": "f3607437-9282-4165-9511-07420b825f59",
   "metadata": {},
   "source": [
    "# summary of model evaluation"
   ]
  },
  {
   "cell_type": "code",
   "execution_count": 22,
   "id": "24bcc124-dbe3-446b-bdaa-a7ebc22b7039",
   "metadata": {},
   "outputs": [
    {
     "name": "stdout",
     "output_type": "stream",
     "text": [
      "R-squared (R^2): 0.04458916565765958\n",
      "MSE_1: 0.39182769054049155\n",
      "MSE_5: 1.1785569240367137\n",
      "MSE_10: 2.1499233653086116\n",
      "MSE_15: 1.9646642990746082\n",
      "MSE_20: 2.155640982987794\n",
      "MSE_25: 2.135936471144065\n",
      "MSE_30: 2.0729454657298385\n",
      "MSE_252: 4.00975145127821\n",
      "MSE_2021: 4.055881424166835\n",
      "MSE_2022: 4.801305311662617\n",
      "MSE_2023: 1.7683179293494287\n",
      "MSE_2024: 3.128844858402769\n"
     ]
    }
   ],
   "source": [
    "# MSE all horizons + R^2\n",
    "print(\"R-squared (R^2):\", r_squared)\n",
    "print(\"MSE_1:\", mse1)\n",
    "print(\"MSE_5:\", mse5)\n",
    "print(\"MSE_10:\", mse10)\n",
    "print(\"MSE_15:\", mse15)\n",
    "print(\"MSE_20:\", mse20)\n",
    "print(\"MSE_25:\", mse25)\n",
    "print(\"MSE_30:\", mse30)\n",
    "print(\"MSE_252:\", mse252)\n",
    "print(\"MSE_2021:\", mse2021)\n",
    "print(\"MSE_2022:\", mse2022)\n",
    "print(\"MSE_2023:\", mse2023)\n",
    "print(\"MSE_2024:\", mse2024)"
   ]
  },
  {
   "cell_type": "code",
   "execution_count": 23,
   "id": "82493096-24ce-4141-b3f3-7bb27b5439ea",
   "metadata": {},
   "outputs": [
    {
     "name": "stdout",
     "output_type": "stream",
     "text": [
      "MAE_1: 0.625961412980458\n",
      "MAE_5: 0.8134239197963193\n",
      "MAE_10: 1.2256685125374813\n",
      "MAE_15: 1.155630482266932\n",
      "MAE_20: 1.2063717669274099\n",
      "MAE_25: 1.1662649783341055\n",
      "MAE_30: 1.1426310894931362\n",
      "MAE_252: 1.4924845975118943\n",
      "MAE_2021: 1.4948085796165962\n",
      "MAE_2022: 1.6958809452889247\n",
      "MAE_2023: 1.1269853293384156\n",
      "MAE_2024: 1.4742646544941673\n"
     ]
    }
   ],
   "source": [
    "# MAE all horizons\n",
    "print(\"MAE_1:\", mae1)\n",
    "print(\"MAE_5:\", mae5)\n",
    "print(\"MAE_10:\", mae10)\n",
    "print(\"MAE_15:\", mae15)\n",
    "print(\"MAE_20:\", mae20)\n",
    "print(\"MAE_25:\", mae25)\n",
    "print(\"MAE_30:\", mae30)\n",
    "print(\"MAE_252:\", mae252)\n",
    "print(\"MAE_2021:\", mae2021)\n",
    "print(\"MAE_2022:\", mae2022)\n",
    "print(\"MAE_2023:\", mae2023)\n",
    "print(\"MAE_2024:\", mae2024)"
   ]
  },
  {
   "cell_type": "code",
   "execution_count": 24,
   "id": "a75db5e0-79bb-4f01-ba39-e42aca10fdcc",
   "metadata": {},
   "outputs": [
    {
     "name": "stdout",
     "output_type": "stream",
     "text": [
      "MedSE_1: 0.39182769054049155\n",
      "MedSE_5: 0.39182769054049155\n",
      "MedSE_10: 0.9989717111574062\n",
      "MedSE_15: 1.1249458714093448\n",
      "MedSE_20: 1.0071973395313976\n",
      "MedSE_25: 0.8894488076534502\n",
      "MedSE_30: 1.0071973395313976\n",
      "MedSE_252: 1.5789656546752462\n",
      "MedSE_2021: 1.552357553849097\n",
      "MedSE_2022: 2.474483317644011\n",
      "MedSE_2023: 1.1366514503914154\n",
      "MedSE_2024: 2.3414474046536533\n"
     ]
    }
   ],
   "source": [
    "# Median squared error\n",
    "print(\"MedSE_1:\", median_squared_errors1)\n",
    "print(\"MedSE_5:\", median_squared_errors5)\n",
    "print(\"MedSE_10:\", median_squared_errors10)\n",
    "print(\"MedSE_15:\", median_squared_errors15)\n",
    "print(\"MedSE_20:\", median_squared_errors20)\n",
    "print(\"MedSE_25:\", median_squared_errors25)\n",
    "print(\"MedSE_30:\", median_squared_errors30)\n",
    "print(\"MedSE_252:\", median_squared_errors252)\n",
    "print(\"MedSE_2021:\", median_squared_errors2021)\n",
    "print(\"MedSE_2022:\", median_squared_errors2022)\n",
    "print(\"MedSE_2023:\", median_squared_errors2023)\n",
    "print(\"MedSE_2024:\", median_squared_errors2024)"
   ]
  },
  {
   "cell_type": "code",
   "execution_count": null,
   "id": "dd65b6e5-6f51-4ff5-8bde-c5e088af6851",
   "metadata": {},
   "outputs": [],
   "source": []
  }
 ],
 "metadata": {
  "kernelspec": {
   "display_name": "Python 3 (ipykernel)",
   "language": "python",
   "name": "python3"
  },
  "language_info": {
   "codemirror_mode": {
    "name": "ipython",
    "version": 3
   },
   "file_extension": ".py",
   "mimetype": "text/x-python",
   "name": "python",
   "nbconvert_exporter": "python",
   "pygments_lexer": "ipython3",
   "version": "3.11.7"
  }
 },
 "nbformat": 4,
 "nbformat_minor": 5
}
